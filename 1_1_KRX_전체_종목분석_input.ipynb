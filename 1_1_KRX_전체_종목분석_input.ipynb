{
  "cells": [
    {
      "cell_type": "markdown",
      "metadata": {
        "id": "view-in-github",
        "colab_type": "text"
      },
      "source": [
        "<a href=\"https://colab.research.google.com/github/KimMooKeun/-/blob/main/1_1_KRX_%EC%A0%84%EC%B2%B4_%EC%A2%85%EB%AA%A9%EB%B6%84%EC%84%9D_input.ipynb\" target=\"_parent\"><img src=\"https://colab.research.google.com/assets/colab-badge.svg\" alt=\"Open In Colab\"/></a>"
      ]
    },
    {
      "cell_type": "markdown",
      "metadata": {
        "id": "HWKVTvP7v9xb"
      },
      "source": [
        "## 한국거래소(KRX) 전체 종목 분석\n",
        "* Pandas cheat sheet 를 함께 보세요! : [Pandas_Cheat_Sheet.pdf](https://pandas.pydata.org/Pandas_Cheat_Sheet.pdf)\n",
        "\n",
        "    \n",
        "* Pandas를 통한 파일 저장과 불러오기\n",
        "    * to_csv(\"파일명\", index=False) : csv 파일로 저장하기\n",
        "    * read_csv(\"파일명\") : csv 파일 불러오기\n",
        "    * shape를 통한 행과 열의 수 보기\n",
        "    * head, tail, sample 을 통한 일부 데이터 가져오기\n",
        "    \n",
        "* DataFrame의 info(), describe() 등을 통한 요약과 기술통계 값 구하기\n",
        "    * info()\n",
        "    * describe()\n",
        "    * nunique()\n",
        "    * index\n",
        "    * columns\n",
        "    * values\n",
        "    \n",
        "* Pandas의  DataFrame과 Series의 이해\n",
        "    * Series : 1차원 벡터구조\n",
        "    * DataFrame : 2차원 행렬구조\n",
        "    \n",
        "* 색인하기\n",
        "    * [컬럼]\n",
        "    * .loc[행]\n",
        "    * .loc[행, 열]\n",
        "    * .loc[조건식, 열]\n",
        "    \n",
        "* DataFrame의 데이터 타입 이해하기\n",
        "    * 날짜 데이터의 변환\n",
        "    \n",
        "* DataFrame 다루기\n",
        "    * 열(column) 인덱싱\n",
        "    * 행(index) 인덱싱\n",
        "    * 행, 열 인덱싱\n",
        "    * 정렬하기 : sort_values 사용하기\n",
        "    * 조건식 사용하기\n",
        "\n",
        "* 빈도수 구하기\n",
        "    * 한 개의 변수 : series.value_counts()\n",
        "    * 두 개의 변수 : pd.crosstab()\n",
        "\n",
        "* groupby 와 pivot_table\n",
        "    * 다양한 연산식의 사용\n",
        "\n",
        "\n",
        "## 라이브러리 불러오기"
      ]
    },
    {
      "cell_type": "code",
      "execution_count": 1,
      "metadata": {
        "id": "OGQuQOfmv9xb"
      },
      "outputs": [],
      "source": [
        "# 데이터 분석을 위해 pandas, 시각화를 위해 seaborn 불러오기\n",
        "import pandas as pd #as는 별칭을 의미 pandas별칭을 pd로 한다.\n",
        "import numpy as np \n",
        "import seaborn as sns"
      ]
    },
    {
      "cell_type": "markdown",
      "metadata": {
        "id": "NZrikuL1v9xa"
      },
      "source": [
        "## 데이터셋 불러오기\n",
        "<img src=\"https://pandas.pydata.org/docs/_images/02_io_readwrite.svg\">\n",
        "\n",
        "* FinanceDataReader 로 수집한 전체 종목 불러오기\n",
        "    * 한국 주식 가격, 미국주식 가격, 지수, 환율, 암호화폐 가격, 종목 리스팅 등 금융 데이터 수집 라이브러리\n",
        "    * [FinanceData/FinanceDataReader: Financial data reader](https://github.com/FinanceData/FinanceDataReader)\n",
        "    * [FinanceDataReader 사용자 안내서 | FinanceData](https://financedata.github.io/posts/finance-data-reader-users-guide.html)\n",
        "    * https://pandas-datareader.readthedocs.io/en/latest/readers/index.html\n"
      ]
    },
    {
      "cell_type": "code",
      "execution_count": 2,
      "metadata": {
        "id": "pezcSAKVoBwT",
        "colab": {
          "base_uri": "https://localhost:8080/"
        },
        "outputId": "8226e198-758a-4418-eae1-7ef1498ac303"
      },
      "outputs": [
        {
          "output_type": "stream",
          "name": "stdout",
          "text": [
            "Looking in indexes: https://pypi.org/simple, https://us-python.pkg.dev/colab-wheels/public/simple/\n",
            "Collecting finance-datareader\n",
            "  Downloading finance_datareader-0.9.34-py3-none-any.whl (17 kB)\n",
            "Requirement already satisfied: pandas>=0.19.2 in /usr/local/lib/python3.7/dist-packages (from finance-datareader) (1.3.5)\n",
            "Requirement already satisfied: requests>=2.3.0 in /usr/local/lib/python3.7/dist-packages (from finance-datareader) (2.23.0)\n",
            "Requirement already satisfied: tqdm in /usr/local/lib/python3.7/dist-packages (from finance-datareader) (4.64.0)\n",
            "Collecting requests-file\n",
            "  Downloading requests_file-1.5.1-py2.py3-none-any.whl (3.7 kB)\n",
            "Requirement already satisfied: lxml in /usr/local/lib/python3.7/dist-packages (from finance-datareader) (4.2.6)\n",
            "Requirement already satisfied: numpy>=1.17.3 in /usr/local/lib/python3.7/dist-packages (from pandas>=0.19.2->finance-datareader) (1.21.6)\n",
            "Requirement already satisfied: pytz>=2017.3 in /usr/local/lib/python3.7/dist-packages (from pandas>=0.19.2->finance-datareader) (2022.1)\n",
            "Requirement already satisfied: python-dateutil>=2.7.3 in /usr/local/lib/python3.7/dist-packages (from pandas>=0.19.2->finance-datareader) (2.8.2)\n",
            "Requirement already satisfied: six>=1.5 in /usr/local/lib/python3.7/dist-packages (from python-dateutil>=2.7.3->pandas>=0.19.2->finance-datareader) (1.15.0)\n",
            "Requirement already satisfied: idna<3,>=2.5 in /usr/local/lib/python3.7/dist-packages (from requests>=2.3.0->finance-datareader) (2.10)\n",
            "Requirement already satisfied: chardet<4,>=3.0.2 in /usr/local/lib/python3.7/dist-packages (from requests>=2.3.0->finance-datareader) (3.0.4)\n",
            "Requirement already satisfied: certifi>=2017.4.17 in /usr/local/lib/python3.7/dist-packages (from requests>=2.3.0->finance-datareader) (2022.6.15)\n",
            "Requirement already satisfied: urllib3!=1.25.0,!=1.25.1,<1.26,>=1.21.1 in /usr/local/lib/python3.7/dist-packages (from requests>=2.3.0->finance-datareader) (1.24.3)\n",
            "Installing collected packages: requests-file, finance-datareader\n",
            "Successfully installed finance-datareader-0.9.34 requests-file-1.5.1\n"
          ]
        }
      ],
      "source": [
        "!pip install finance-datareader"
      ]
    },
    {
      "cell_type": "code",
      "execution_count": 6,
      "metadata": {
        "id": "ghUPgcbZOjaq",
        "colab": {
          "base_uri": "https://localhost:8080/"
        },
        "outputId": "96321d32-6d73-4ae3-8379-9086d2fec2a6"
      },
      "outputs": [
        {
          "output_type": "stream",
          "name": "stdout",
          "text": [
            "http://kind.krx.co.kr/corpgeneral/corpList.do?method=download&searchType=13\n"
          ]
        }
      ],
      "source": [
        "# 한국거래소 전체 종목 데이터 URL\n",
        "url = 'http://kind.krx.co.kr/corpgeneral/corpList.do?method=download&searchType=13'\n",
        "print(url)"
      ]
    },
    {
      "cell_type": "code",
      "source": [
        ""
      ],
      "metadata": {
        "id": "rRvzxxPB-lhk"
      },
      "execution_count": null,
      "outputs": []
    },
    {
      "cell_type": "code",
      "execution_count": 8,
      "metadata": {
        "id": "iCuv87HvOjaq",
        "colab": {
          "base_uri": "https://localhost:8080/"
        },
        "outputId": "425c1132-98c1-4dcf-851b-ebbc4824c3ee"
      },
      "outputs": [
        {
          "output_type": "execute_result",
          "data": {
            "text/plain": [
              "(8110, 10)"
            ]
          },
          "metadata": {},
          "execution_count": 8
        }
      ],
      "source": [
        "import FinanceDataReader as fdr\n",
        "\n",
        "df = fdr.StockListing(\"KRX\")\n",
        "df.shape\n"
      ]
    },
    {
      "cell_type": "markdown",
      "metadata": {
        "id": "wZJzzoyJpvUJ"
      },
      "source": [
        "### 일부 데이터만 가져오기\n",
        "\n",
        "{'회사명':'Name', '종목코드':'Symbol', '업종':'Sector', '주요제품':'Industry', \n",
        "                            '상장일':'ListingDate', '결산월':'SettleMonth',  '대표자명':'Representative', \n",
        "                            '홈페이지':'HomePage', '지역':'Region', }"
      ]
    },
    {
      "cell_type": "code",
      "execution_count": 9,
      "metadata": {
        "id": "pkQr3PASpvUK",
        "colab": {
          "base_uri": "https://localhost:8080/",
          "height": 206
        },
        "outputId": "b7482194-d162-47c4-9c7a-72ffba317b5f"
      },
      "outputs": [
        {
          "output_type": "execute_result",
          "data": {
            "text/plain": [
              "   Symbol  Market    Name           Sector             Industry ListingDate  \\\n",
              "0  060310  KOSDAQ      3S         전자부품 제조업          반도체 웨이퍼 캐리어  2002-04-23   \n",
              "1  095570   KOSPI  AJ네트웍스  산업용 기계 및 장비 임대업  렌탈(파렛트, OA장비, 건설장비)  2015-08-21   \n",
              "2  006840   KOSPI   AK홀딩스           기타 금융업                 지주사업  1999-08-11   \n",
              "3  054620  KOSDAQ  APS홀딩스           기타 금융업          인터넷 트래픽 솔루션  2001-12-04   \n",
              "4  265520  KOSDAQ   AP시스템    특수 목적용 기계 제조업          디스플레이 제조 장비  2017-04-07   \n",
              "\n",
              "  SettleMonth     Representative                       HomePage Region  \n",
              "0         03월                김세완           http://www.3sref.com  서울특별시  \n",
              "1         12월           박대현, 손삼달         http://www.ajnet.co.kr  서울특별시  \n",
              "2         12월  채형석, 이석주(각자 대표이사)  http://www.aekyunggroup.co.kr  서울특별시  \n",
              "3         12월                정기로   http://www.apsholdings.co.kr    경기도  \n",
              "4         12월                김영주     http://www.apsystems.co.kr    경기도  "
            ],
            "text/html": [
              "\n",
              "  <div id=\"df-ce564cc5-8621-4c66-92d4-b9f218914baa\">\n",
              "    <div class=\"colab-df-container\">\n",
              "      <div>\n",
              "<style scoped>\n",
              "    .dataframe tbody tr th:only-of-type {\n",
              "        vertical-align: middle;\n",
              "    }\n",
              "\n",
              "    .dataframe tbody tr th {\n",
              "        vertical-align: top;\n",
              "    }\n",
              "\n",
              "    .dataframe thead th {\n",
              "        text-align: right;\n",
              "    }\n",
              "</style>\n",
              "<table border=\"1\" class=\"dataframe\">\n",
              "  <thead>\n",
              "    <tr style=\"text-align: right;\">\n",
              "      <th></th>\n",
              "      <th>Symbol</th>\n",
              "      <th>Market</th>\n",
              "      <th>Name</th>\n",
              "      <th>Sector</th>\n",
              "      <th>Industry</th>\n",
              "      <th>ListingDate</th>\n",
              "      <th>SettleMonth</th>\n",
              "      <th>Representative</th>\n",
              "      <th>HomePage</th>\n",
              "      <th>Region</th>\n",
              "    </tr>\n",
              "  </thead>\n",
              "  <tbody>\n",
              "    <tr>\n",
              "      <th>0</th>\n",
              "      <td>060310</td>\n",
              "      <td>KOSDAQ</td>\n",
              "      <td>3S</td>\n",
              "      <td>전자부품 제조업</td>\n",
              "      <td>반도체 웨이퍼 캐리어</td>\n",
              "      <td>2002-04-23</td>\n",
              "      <td>03월</td>\n",
              "      <td>김세완</td>\n",
              "      <td>http://www.3sref.com</td>\n",
              "      <td>서울특별시</td>\n",
              "    </tr>\n",
              "    <tr>\n",
              "      <th>1</th>\n",
              "      <td>095570</td>\n",
              "      <td>KOSPI</td>\n",
              "      <td>AJ네트웍스</td>\n",
              "      <td>산업용 기계 및 장비 임대업</td>\n",
              "      <td>렌탈(파렛트, OA장비, 건설장비)</td>\n",
              "      <td>2015-08-21</td>\n",
              "      <td>12월</td>\n",
              "      <td>박대현, 손삼달</td>\n",
              "      <td>http://www.ajnet.co.kr</td>\n",
              "      <td>서울특별시</td>\n",
              "    </tr>\n",
              "    <tr>\n",
              "      <th>2</th>\n",
              "      <td>006840</td>\n",
              "      <td>KOSPI</td>\n",
              "      <td>AK홀딩스</td>\n",
              "      <td>기타 금융업</td>\n",
              "      <td>지주사업</td>\n",
              "      <td>1999-08-11</td>\n",
              "      <td>12월</td>\n",
              "      <td>채형석, 이석주(각자 대표이사)</td>\n",
              "      <td>http://www.aekyunggroup.co.kr</td>\n",
              "      <td>서울특별시</td>\n",
              "    </tr>\n",
              "    <tr>\n",
              "      <th>3</th>\n",
              "      <td>054620</td>\n",
              "      <td>KOSDAQ</td>\n",
              "      <td>APS홀딩스</td>\n",
              "      <td>기타 금융업</td>\n",
              "      <td>인터넷 트래픽 솔루션</td>\n",
              "      <td>2001-12-04</td>\n",
              "      <td>12월</td>\n",
              "      <td>정기로</td>\n",
              "      <td>http://www.apsholdings.co.kr</td>\n",
              "      <td>경기도</td>\n",
              "    </tr>\n",
              "    <tr>\n",
              "      <th>4</th>\n",
              "      <td>265520</td>\n",
              "      <td>KOSDAQ</td>\n",
              "      <td>AP시스템</td>\n",
              "      <td>특수 목적용 기계 제조업</td>\n",
              "      <td>디스플레이 제조 장비</td>\n",
              "      <td>2017-04-07</td>\n",
              "      <td>12월</td>\n",
              "      <td>김영주</td>\n",
              "      <td>http://www.apsystems.co.kr</td>\n",
              "      <td>경기도</td>\n",
              "    </tr>\n",
              "  </tbody>\n",
              "</table>\n",
              "</div>\n",
              "      <button class=\"colab-df-convert\" onclick=\"convertToInteractive('df-ce564cc5-8621-4c66-92d4-b9f218914baa')\"\n",
              "              title=\"Convert this dataframe to an interactive table.\"\n",
              "              style=\"display:none;\">\n",
              "        \n",
              "  <svg xmlns=\"http://www.w3.org/2000/svg\" height=\"24px\"viewBox=\"0 0 24 24\"\n",
              "       width=\"24px\">\n",
              "    <path d=\"M0 0h24v24H0V0z\" fill=\"none\"/>\n",
              "    <path d=\"M18.56 5.44l.94 2.06.94-2.06 2.06-.94-2.06-.94-.94-2.06-.94 2.06-2.06.94zm-11 1L8.5 8.5l.94-2.06 2.06-.94-2.06-.94L8.5 2.5l-.94 2.06-2.06.94zm10 10l.94 2.06.94-2.06 2.06-.94-2.06-.94-.94-2.06-.94 2.06-2.06.94z\"/><path d=\"M17.41 7.96l-1.37-1.37c-.4-.4-.92-.59-1.43-.59-.52 0-1.04.2-1.43.59L10.3 9.45l-7.72 7.72c-.78.78-.78 2.05 0 2.83L4 21.41c.39.39.9.59 1.41.59.51 0 1.02-.2 1.41-.59l7.78-7.78 2.81-2.81c.8-.78.8-2.07 0-2.86zM5.41 20L4 18.59l7.72-7.72 1.47 1.35L5.41 20z\"/>\n",
              "  </svg>\n",
              "      </button>\n",
              "      \n",
              "  <style>\n",
              "    .colab-df-container {\n",
              "      display:flex;\n",
              "      flex-wrap:wrap;\n",
              "      gap: 12px;\n",
              "    }\n",
              "\n",
              "    .colab-df-convert {\n",
              "      background-color: #E8F0FE;\n",
              "      border: none;\n",
              "      border-radius: 50%;\n",
              "      cursor: pointer;\n",
              "      display: none;\n",
              "      fill: #1967D2;\n",
              "      height: 32px;\n",
              "      padding: 0 0 0 0;\n",
              "      width: 32px;\n",
              "    }\n",
              "\n",
              "    .colab-df-convert:hover {\n",
              "      background-color: #E2EBFA;\n",
              "      box-shadow: 0px 1px 2px rgba(60, 64, 67, 0.3), 0px 1px 3px 1px rgba(60, 64, 67, 0.15);\n",
              "      fill: #174EA6;\n",
              "    }\n",
              "\n",
              "    [theme=dark] .colab-df-convert {\n",
              "      background-color: #3B4455;\n",
              "      fill: #D2E3FC;\n",
              "    }\n",
              "\n",
              "    [theme=dark] .colab-df-convert:hover {\n",
              "      background-color: #434B5C;\n",
              "      box-shadow: 0px 1px 3px 1px rgba(0, 0, 0, 0.15);\n",
              "      filter: drop-shadow(0px 1px 2px rgba(0, 0, 0, 0.3));\n",
              "      fill: #FFFFFF;\n",
              "    }\n",
              "  </style>\n",
              "\n",
              "      <script>\n",
              "        const buttonEl =\n",
              "          document.querySelector('#df-ce564cc5-8621-4c66-92d4-b9f218914baa button.colab-df-convert');\n",
              "        buttonEl.style.display =\n",
              "          google.colab.kernel.accessAllowed ? 'block' : 'none';\n",
              "\n",
              "        async function convertToInteractive(key) {\n",
              "          const element = document.querySelector('#df-ce564cc5-8621-4c66-92d4-b9f218914baa');\n",
              "          const dataTable =\n",
              "            await google.colab.kernel.invokeFunction('convertToInteractive',\n",
              "                                                     [key], {});\n",
              "          if (!dataTable) return;\n",
              "\n",
              "          const docLinkHtml = 'Like what you see? Visit the ' +\n",
              "            '<a target=\"_blank\" href=https://colab.research.google.com/notebooks/data_table.ipynb>data table notebook</a>'\n",
              "            + ' to learn more about interactive tables.';\n",
              "          element.innerHTML = '';\n",
              "          dataTable['output_type'] = 'display_data';\n",
              "          await google.colab.output.renderOutput(dataTable, element);\n",
              "          const docLink = document.createElement('div');\n",
              "          docLink.innerHTML = docLinkHtml;\n",
              "          element.appendChild(docLink);\n",
              "        }\n",
              "      </script>\n",
              "    </div>\n",
              "  </div>\n",
              "  "
            ]
          },
          "metadata": {},
          "execution_count": 9
        }
      ],
      "source": [
        "# head 로 위에 있는 데이터 일부만 가져옵니다.\n",
        "df.head()"
      ]
    },
    {
      "cell_type": "code",
      "execution_count": 10,
      "metadata": {
        "id": "wamD0HMypvUK",
        "colab": {
          "base_uri": "https://localhost:8080/",
          "height": 250
        },
        "outputId": "d281aa42-0f68-43be-cab1-b71a2fa62e40"
      },
      "outputs": [
        {
          "output_type": "execute_result",
          "data": {
            "text/plain": [
              "      Symbol  Market             Name         Sector  \\\n",
              "8105  435540   KOSPI  히어로즈 TDF2040액티브            NaN   \n",
              "8106  435550   KOSPI  히어로즈 TDF2050액티브            NaN   \n",
              "8107  419890   KOSPI  히어로즈 단기채권ESG액티브            NaN   \n",
              "8108  429870   KOSPI    히어로즈 리츠이지스액티브            NaN   \n",
              "8109  238490  KOSDAQ               힘스  특수 목적용 기계 제조업   \n",
              "\n",
              "                            Industry ListingDate SettleMonth Representative  \\\n",
              "8105                             NaN         NaT         NaN            NaN   \n",
              "8106                             NaN         NaT         NaN            NaN   \n",
              "8107                             NaN         NaT         NaN            NaN   \n",
              "8108                             NaN         NaT         NaN            NaN   \n",
              "8109  OLED Mask 인장기, OLED Mask 검사기 등  2017-07-20         12월            김주환   \n",
              "\n",
              "                   HomePage Region  \n",
              "8105                    NaN    NaN  \n",
              "8106                    NaN    NaN  \n",
              "8107                    NaN    NaN  \n",
              "8108                    NaN    NaN  \n",
              "8109  http://www.hims.co.kr  인천광역시  "
            ],
            "text/html": [
              "\n",
              "  <div id=\"df-44a3b9c4-f20b-4374-8a23-7a089734bf18\">\n",
              "    <div class=\"colab-df-container\">\n",
              "      <div>\n",
              "<style scoped>\n",
              "    .dataframe tbody tr th:only-of-type {\n",
              "        vertical-align: middle;\n",
              "    }\n",
              "\n",
              "    .dataframe tbody tr th {\n",
              "        vertical-align: top;\n",
              "    }\n",
              "\n",
              "    .dataframe thead th {\n",
              "        text-align: right;\n",
              "    }\n",
              "</style>\n",
              "<table border=\"1\" class=\"dataframe\">\n",
              "  <thead>\n",
              "    <tr style=\"text-align: right;\">\n",
              "      <th></th>\n",
              "      <th>Symbol</th>\n",
              "      <th>Market</th>\n",
              "      <th>Name</th>\n",
              "      <th>Sector</th>\n",
              "      <th>Industry</th>\n",
              "      <th>ListingDate</th>\n",
              "      <th>SettleMonth</th>\n",
              "      <th>Representative</th>\n",
              "      <th>HomePage</th>\n",
              "      <th>Region</th>\n",
              "    </tr>\n",
              "  </thead>\n",
              "  <tbody>\n",
              "    <tr>\n",
              "      <th>8105</th>\n",
              "      <td>435540</td>\n",
              "      <td>KOSPI</td>\n",
              "      <td>히어로즈 TDF2040액티브</td>\n",
              "      <td>NaN</td>\n",
              "      <td>NaN</td>\n",
              "      <td>NaT</td>\n",
              "      <td>NaN</td>\n",
              "      <td>NaN</td>\n",
              "      <td>NaN</td>\n",
              "      <td>NaN</td>\n",
              "    </tr>\n",
              "    <tr>\n",
              "      <th>8106</th>\n",
              "      <td>435550</td>\n",
              "      <td>KOSPI</td>\n",
              "      <td>히어로즈 TDF2050액티브</td>\n",
              "      <td>NaN</td>\n",
              "      <td>NaN</td>\n",
              "      <td>NaT</td>\n",
              "      <td>NaN</td>\n",
              "      <td>NaN</td>\n",
              "      <td>NaN</td>\n",
              "      <td>NaN</td>\n",
              "    </tr>\n",
              "    <tr>\n",
              "      <th>8107</th>\n",
              "      <td>419890</td>\n",
              "      <td>KOSPI</td>\n",
              "      <td>히어로즈 단기채권ESG액티브</td>\n",
              "      <td>NaN</td>\n",
              "      <td>NaN</td>\n",
              "      <td>NaT</td>\n",
              "      <td>NaN</td>\n",
              "      <td>NaN</td>\n",
              "      <td>NaN</td>\n",
              "      <td>NaN</td>\n",
              "    </tr>\n",
              "    <tr>\n",
              "      <th>8108</th>\n",
              "      <td>429870</td>\n",
              "      <td>KOSPI</td>\n",
              "      <td>히어로즈 리츠이지스액티브</td>\n",
              "      <td>NaN</td>\n",
              "      <td>NaN</td>\n",
              "      <td>NaT</td>\n",
              "      <td>NaN</td>\n",
              "      <td>NaN</td>\n",
              "      <td>NaN</td>\n",
              "      <td>NaN</td>\n",
              "    </tr>\n",
              "    <tr>\n",
              "      <th>8109</th>\n",
              "      <td>238490</td>\n",
              "      <td>KOSDAQ</td>\n",
              "      <td>힘스</td>\n",
              "      <td>특수 목적용 기계 제조업</td>\n",
              "      <td>OLED Mask 인장기, OLED Mask 검사기 등</td>\n",
              "      <td>2017-07-20</td>\n",
              "      <td>12월</td>\n",
              "      <td>김주환</td>\n",
              "      <td>http://www.hims.co.kr</td>\n",
              "      <td>인천광역시</td>\n",
              "    </tr>\n",
              "  </tbody>\n",
              "</table>\n",
              "</div>\n",
              "      <button class=\"colab-df-convert\" onclick=\"convertToInteractive('df-44a3b9c4-f20b-4374-8a23-7a089734bf18')\"\n",
              "              title=\"Convert this dataframe to an interactive table.\"\n",
              "              style=\"display:none;\">\n",
              "        \n",
              "  <svg xmlns=\"http://www.w3.org/2000/svg\" height=\"24px\"viewBox=\"0 0 24 24\"\n",
              "       width=\"24px\">\n",
              "    <path d=\"M0 0h24v24H0V0z\" fill=\"none\"/>\n",
              "    <path d=\"M18.56 5.44l.94 2.06.94-2.06 2.06-.94-2.06-.94-.94-2.06-.94 2.06-2.06.94zm-11 1L8.5 8.5l.94-2.06 2.06-.94-2.06-.94L8.5 2.5l-.94 2.06-2.06.94zm10 10l.94 2.06.94-2.06 2.06-.94-2.06-.94-.94-2.06-.94 2.06-2.06.94z\"/><path d=\"M17.41 7.96l-1.37-1.37c-.4-.4-.92-.59-1.43-.59-.52 0-1.04.2-1.43.59L10.3 9.45l-7.72 7.72c-.78.78-.78 2.05 0 2.83L4 21.41c.39.39.9.59 1.41.59.51 0 1.02-.2 1.41-.59l7.78-7.78 2.81-2.81c.8-.78.8-2.07 0-2.86zM5.41 20L4 18.59l7.72-7.72 1.47 1.35L5.41 20z\"/>\n",
              "  </svg>\n",
              "      </button>\n",
              "      \n",
              "  <style>\n",
              "    .colab-df-container {\n",
              "      display:flex;\n",
              "      flex-wrap:wrap;\n",
              "      gap: 12px;\n",
              "    }\n",
              "\n",
              "    .colab-df-convert {\n",
              "      background-color: #E8F0FE;\n",
              "      border: none;\n",
              "      border-radius: 50%;\n",
              "      cursor: pointer;\n",
              "      display: none;\n",
              "      fill: #1967D2;\n",
              "      height: 32px;\n",
              "      padding: 0 0 0 0;\n",
              "      width: 32px;\n",
              "    }\n",
              "\n",
              "    .colab-df-convert:hover {\n",
              "      background-color: #E2EBFA;\n",
              "      box-shadow: 0px 1px 2px rgba(60, 64, 67, 0.3), 0px 1px 3px 1px rgba(60, 64, 67, 0.15);\n",
              "      fill: #174EA6;\n",
              "    }\n",
              "\n",
              "    [theme=dark] .colab-df-convert {\n",
              "      background-color: #3B4455;\n",
              "      fill: #D2E3FC;\n",
              "    }\n",
              "\n",
              "    [theme=dark] .colab-df-convert:hover {\n",
              "      background-color: #434B5C;\n",
              "      box-shadow: 0px 1px 3px 1px rgba(0, 0, 0, 0.15);\n",
              "      filter: drop-shadow(0px 1px 2px rgba(0, 0, 0, 0.3));\n",
              "      fill: #FFFFFF;\n",
              "    }\n",
              "  </style>\n",
              "\n",
              "      <script>\n",
              "        const buttonEl =\n",
              "          document.querySelector('#df-44a3b9c4-f20b-4374-8a23-7a089734bf18 button.colab-df-convert');\n",
              "        buttonEl.style.display =\n",
              "          google.colab.kernel.accessAllowed ? 'block' : 'none';\n",
              "\n",
              "        async function convertToInteractive(key) {\n",
              "          const element = document.querySelector('#df-44a3b9c4-f20b-4374-8a23-7a089734bf18');\n",
              "          const dataTable =\n",
              "            await google.colab.kernel.invokeFunction('convertToInteractive',\n",
              "                                                     [key], {});\n",
              "          if (!dataTable) return;\n",
              "\n",
              "          const docLinkHtml = 'Like what you see? Visit the ' +\n",
              "            '<a target=\"_blank\" href=https://colab.research.google.com/notebooks/data_table.ipynb>data table notebook</a>'\n",
              "            + ' to learn more about interactive tables.';\n",
              "          element.innerHTML = '';\n",
              "          dataTable['output_type'] = 'display_data';\n",
              "          await google.colab.output.renderOutput(dataTable, element);\n",
              "          const docLink = document.createElement('div');\n",
              "          docLink.innerHTML = docLinkHtml;\n",
              "          element.appendChild(docLink);\n",
              "        }\n",
              "      </script>\n",
              "    </div>\n",
              "  </div>\n",
              "  "
            ]
          },
          "metadata": {},
          "execution_count": 10
        }
      ],
      "source": [
        "# tail 로 아래 있는 데이터 일부만 가져옵니다.\n",
        "df.tail()"
      ]
    },
    {
      "cell_type": "code",
      "execution_count": 11,
      "metadata": {
        "id": "Gi06e-mEpvUK",
        "colab": {
          "base_uri": "https://localhost:8080/",
          "height": 459
        },
        "outputId": "c0c032ef-3f15-4cae-d541-669fdf22de82"
      },
      "outputs": [
        {
          "output_type": "execute_result",
          "data": {
            "text/plain": [
              "      Symbol  Market                               Name          Sector  \\\n",
              "3155  52HA07   KOSPI                        미래HA07엘지디스콜             NaN   \n",
              "1130  58HB81   KOSPI                         KBHB81하이브콜             NaN   \n",
              "1589  302450   KOSPI                         KBSTAR 코스피             NaN   \n",
              "5532  140660   KONEX                                위월드  통신 및 방송 장비 제조업   \n",
              "4129  520030   KOSPI  미래에셋 KRX금현물 Auto-KO-C 2312-01 ETN             NaN   \n",
              "5008  50H605   KOSPI                       신한H605SK하이닉콜             NaN   \n",
              "141   395280   KOSPI                     HANARO Fn K-게임             NaN   \n",
              "4210  019010  KOSDAQ                                베뉴지          종합 소매업   \n",
              "6812  57H749   KOSPI                    한국H749KOSPI200콜             NaN   \n",
              "6710  57H591   KOSPI                   한국H591KOSDAQ150풋             NaN   \n",
              "\n",
              "                Industry ListingDate SettleMonth    Representative  \\\n",
              "3155                 NaN         NaT         NaN               NaN   \n",
              "1130                 NaN         NaT         NaN               NaN   \n",
              "1589                 NaN         NaT         NaN               NaN   \n",
              "5532  이동위성통신안테나, 위성방송시스템  2013-12-26         12월               박찬구   \n",
              "4129                 NaN         NaT         NaN               NaN   \n",
              "5008                 NaN         NaT         NaN               NaN   \n",
              "141                  NaN         NaT         NaN               NaN   \n",
              "4210            백화점,예식장업  1993-11-05         12월  김만진.이만섭(각자 대표이사)   \n",
              "6812                 NaN         NaT         NaN               NaN   \n",
              "6710                 NaN         NaT         NaN               NaN   \n",
              "\n",
              "                      HomePage Region  \n",
              "3155                       NaN    NaN  \n",
              "1130                       NaN    NaN  \n",
              "1589                       NaN    NaN  \n",
              "5532  http://www.wiworld.co.kr  대전광역시  \n",
              "4129                       NaN    NaN  \n",
              "5008                       NaN    NaN  \n",
              "141                        NaN    NaN  \n",
              "4210     http://www.venueg.com  서울특별시  \n",
              "6812                       NaN    NaN  \n",
              "6710                       NaN    NaN  "
            ],
            "text/html": [
              "\n",
              "  <div id=\"df-262cffd6-ed1d-4e5f-bad0-6a299a1e0c8b\">\n",
              "    <div class=\"colab-df-container\">\n",
              "      <div>\n",
              "<style scoped>\n",
              "    .dataframe tbody tr th:only-of-type {\n",
              "        vertical-align: middle;\n",
              "    }\n",
              "\n",
              "    .dataframe tbody tr th {\n",
              "        vertical-align: top;\n",
              "    }\n",
              "\n",
              "    .dataframe thead th {\n",
              "        text-align: right;\n",
              "    }\n",
              "</style>\n",
              "<table border=\"1\" class=\"dataframe\">\n",
              "  <thead>\n",
              "    <tr style=\"text-align: right;\">\n",
              "      <th></th>\n",
              "      <th>Symbol</th>\n",
              "      <th>Market</th>\n",
              "      <th>Name</th>\n",
              "      <th>Sector</th>\n",
              "      <th>Industry</th>\n",
              "      <th>ListingDate</th>\n",
              "      <th>SettleMonth</th>\n",
              "      <th>Representative</th>\n",
              "      <th>HomePage</th>\n",
              "      <th>Region</th>\n",
              "    </tr>\n",
              "  </thead>\n",
              "  <tbody>\n",
              "    <tr>\n",
              "      <th>3155</th>\n",
              "      <td>52HA07</td>\n",
              "      <td>KOSPI</td>\n",
              "      <td>미래HA07엘지디스콜</td>\n",
              "      <td>NaN</td>\n",
              "      <td>NaN</td>\n",
              "      <td>NaT</td>\n",
              "      <td>NaN</td>\n",
              "      <td>NaN</td>\n",
              "      <td>NaN</td>\n",
              "      <td>NaN</td>\n",
              "    </tr>\n",
              "    <tr>\n",
              "      <th>1130</th>\n",
              "      <td>58HB81</td>\n",
              "      <td>KOSPI</td>\n",
              "      <td>KBHB81하이브콜</td>\n",
              "      <td>NaN</td>\n",
              "      <td>NaN</td>\n",
              "      <td>NaT</td>\n",
              "      <td>NaN</td>\n",
              "      <td>NaN</td>\n",
              "      <td>NaN</td>\n",
              "      <td>NaN</td>\n",
              "    </tr>\n",
              "    <tr>\n",
              "      <th>1589</th>\n",
              "      <td>302450</td>\n",
              "      <td>KOSPI</td>\n",
              "      <td>KBSTAR 코스피</td>\n",
              "      <td>NaN</td>\n",
              "      <td>NaN</td>\n",
              "      <td>NaT</td>\n",
              "      <td>NaN</td>\n",
              "      <td>NaN</td>\n",
              "      <td>NaN</td>\n",
              "      <td>NaN</td>\n",
              "    </tr>\n",
              "    <tr>\n",
              "      <th>5532</th>\n",
              "      <td>140660</td>\n",
              "      <td>KONEX</td>\n",
              "      <td>위월드</td>\n",
              "      <td>통신 및 방송 장비 제조업</td>\n",
              "      <td>이동위성통신안테나, 위성방송시스템</td>\n",
              "      <td>2013-12-26</td>\n",
              "      <td>12월</td>\n",
              "      <td>박찬구</td>\n",
              "      <td>http://www.wiworld.co.kr</td>\n",
              "      <td>대전광역시</td>\n",
              "    </tr>\n",
              "    <tr>\n",
              "      <th>4129</th>\n",
              "      <td>520030</td>\n",
              "      <td>KOSPI</td>\n",
              "      <td>미래에셋 KRX금현물 Auto-KO-C 2312-01 ETN</td>\n",
              "      <td>NaN</td>\n",
              "      <td>NaN</td>\n",
              "      <td>NaT</td>\n",
              "      <td>NaN</td>\n",
              "      <td>NaN</td>\n",
              "      <td>NaN</td>\n",
              "      <td>NaN</td>\n",
              "    </tr>\n",
              "    <tr>\n",
              "      <th>5008</th>\n",
              "      <td>50H605</td>\n",
              "      <td>KOSPI</td>\n",
              "      <td>신한H605SK하이닉콜</td>\n",
              "      <td>NaN</td>\n",
              "      <td>NaN</td>\n",
              "      <td>NaT</td>\n",
              "      <td>NaN</td>\n",
              "      <td>NaN</td>\n",
              "      <td>NaN</td>\n",
              "      <td>NaN</td>\n",
              "    </tr>\n",
              "    <tr>\n",
              "      <th>141</th>\n",
              "      <td>395280</td>\n",
              "      <td>KOSPI</td>\n",
              "      <td>HANARO Fn K-게임</td>\n",
              "      <td>NaN</td>\n",
              "      <td>NaN</td>\n",
              "      <td>NaT</td>\n",
              "      <td>NaN</td>\n",
              "      <td>NaN</td>\n",
              "      <td>NaN</td>\n",
              "      <td>NaN</td>\n",
              "    </tr>\n",
              "    <tr>\n",
              "      <th>4210</th>\n",
              "      <td>019010</td>\n",
              "      <td>KOSDAQ</td>\n",
              "      <td>베뉴지</td>\n",
              "      <td>종합 소매업</td>\n",
              "      <td>백화점,예식장업</td>\n",
              "      <td>1993-11-05</td>\n",
              "      <td>12월</td>\n",
              "      <td>김만진.이만섭(각자 대표이사)</td>\n",
              "      <td>http://www.venueg.com</td>\n",
              "      <td>서울특별시</td>\n",
              "    </tr>\n",
              "    <tr>\n",
              "      <th>6812</th>\n",
              "      <td>57H749</td>\n",
              "      <td>KOSPI</td>\n",
              "      <td>한국H749KOSPI200콜</td>\n",
              "      <td>NaN</td>\n",
              "      <td>NaN</td>\n",
              "      <td>NaT</td>\n",
              "      <td>NaN</td>\n",
              "      <td>NaN</td>\n",
              "      <td>NaN</td>\n",
              "      <td>NaN</td>\n",
              "    </tr>\n",
              "    <tr>\n",
              "      <th>6710</th>\n",
              "      <td>57H591</td>\n",
              "      <td>KOSPI</td>\n",
              "      <td>한국H591KOSDAQ150풋</td>\n",
              "      <td>NaN</td>\n",
              "      <td>NaN</td>\n",
              "      <td>NaT</td>\n",
              "      <td>NaN</td>\n",
              "      <td>NaN</td>\n",
              "      <td>NaN</td>\n",
              "      <td>NaN</td>\n",
              "    </tr>\n",
              "  </tbody>\n",
              "</table>\n",
              "</div>\n",
              "      <button class=\"colab-df-convert\" onclick=\"convertToInteractive('df-262cffd6-ed1d-4e5f-bad0-6a299a1e0c8b')\"\n",
              "              title=\"Convert this dataframe to an interactive table.\"\n",
              "              style=\"display:none;\">\n",
              "        \n",
              "  <svg xmlns=\"http://www.w3.org/2000/svg\" height=\"24px\"viewBox=\"0 0 24 24\"\n",
              "       width=\"24px\">\n",
              "    <path d=\"M0 0h24v24H0V0z\" fill=\"none\"/>\n",
              "    <path d=\"M18.56 5.44l.94 2.06.94-2.06 2.06-.94-2.06-.94-.94-2.06-.94 2.06-2.06.94zm-11 1L8.5 8.5l.94-2.06 2.06-.94-2.06-.94L8.5 2.5l-.94 2.06-2.06.94zm10 10l.94 2.06.94-2.06 2.06-.94-2.06-.94-.94-2.06-.94 2.06-2.06.94z\"/><path d=\"M17.41 7.96l-1.37-1.37c-.4-.4-.92-.59-1.43-.59-.52 0-1.04.2-1.43.59L10.3 9.45l-7.72 7.72c-.78.78-.78 2.05 0 2.83L4 21.41c.39.39.9.59 1.41.59.51 0 1.02-.2 1.41-.59l7.78-7.78 2.81-2.81c.8-.78.8-2.07 0-2.86zM5.41 20L4 18.59l7.72-7.72 1.47 1.35L5.41 20z\"/>\n",
              "  </svg>\n",
              "      </button>\n",
              "      \n",
              "  <style>\n",
              "    .colab-df-container {\n",
              "      display:flex;\n",
              "      flex-wrap:wrap;\n",
              "      gap: 12px;\n",
              "    }\n",
              "\n",
              "    .colab-df-convert {\n",
              "      background-color: #E8F0FE;\n",
              "      border: none;\n",
              "      border-radius: 50%;\n",
              "      cursor: pointer;\n",
              "      display: none;\n",
              "      fill: #1967D2;\n",
              "      height: 32px;\n",
              "      padding: 0 0 0 0;\n",
              "      width: 32px;\n",
              "    }\n",
              "\n",
              "    .colab-df-convert:hover {\n",
              "      background-color: #E2EBFA;\n",
              "      box-shadow: 0px 1px 2px rgba(60, 64, 67, 0.3), 0px 1px 3px 1px rgba(60, 64, 67, 0.15);\n",
              "      fill: #174EA6;\n",
              "    }\n",
              "\n",
              "    [theme=dark] .colab-df-convert {\n",
              "      background-color: #3B4455;\n",
              "      fill: #D2E3FC;\n",
              "    }\n",
              "\n",
              "    [theme=dark] .colab-df-convert:hover {\n",
              "      background-color: #434B5C;\n",
              "      box-shadow: 0px 1px 3px 1px rgba(0, 0, 0, 0.15);\n",
              "      filter: drop-shadow(0px 1px 2px rgba(0, 0, 0, 0.3));\n",
              "      fill: #FFFFFF;\n",
              "    }\n",
              "  </style>\n",
              "\n",
              "      <script>\n",
              "        const buttonEl =\n",
              "          document.querySelector('#df-262cffd6-ed1d-4e5f-bad0-6a299a1e0c8b button.colab-df-convert');\n",
              "        buttonEl.style.display =\n",
              "          google.colab.kernel.accessAllowed ? 'block' : 'none';\n",
              "\n",
              "        async function convertToInteractive(key) {\n",
              "          const element = document.querySelector('#df-262cffd6-ed1d-4e5f-bad0-6a299a1e0c8b');\n",
              "          const dataTable =\n",
              "            await google.colab.kernel.invokeFunction('convertToInteractive',\n",
              "                                                     [key], {});\n",
              "          if (!dataTable) return;\n",
              "\n",
              "          const docLinkHtml = 'Like what you see? Visit the ' +\n",
              "            '<a target=\"_blank\" href=https://colab.research.google.com/notebooks/data_table.ipynb>data table notebook</a>'\n",
              "            + ' to learn more about interactive tables.';\n",
              "          element.innerHTML = '';\n",
              "          dataTable['output_type'] = 'display_data';\n",
              "          await google.colab.output.renderOutput(dataTable, element);\n",
              "          const docLink = document.createElement('div');\n",
              "          docLink.innerHTML = docLinkHtml;\n",
              "          element.appendChild(docLink);\n",
              "        }\n",
              "      </script>\n",
              "    </div>\n",
              "  </div>\n",
              "  "
            ]
          },
          "metadata": {},
          "execution_count": 11
        }
      ],
      "source": [
        "# sample을 사용하면 랜덤하게 ()안의 갯수만큼 가져옵니다. \n",
        "# ()안에 값을 써주지 않으면 한 개만 가져옵니다.\n",
        "df.sample(10)"
      ]
    },
    {
      "cell_type": "markdown",
      "metadata": {
        "id": "ogwP3sLnpvUL"
      },
      "source": [
        "## 데이터 요약하기"
      ]
    },
    {
      "cell_type": "code",
      "execution_count": 12,
      "metadata": {
        "id": "89v1d9hhpvUL",
        "colab": {
          "base_uri": "https://localhost:8080/"
        },
        "outputId": "f67c4cbc-6f94-49f6-d270-6977b135e1a2"
      },
      "outputs": [
        {
          "output_type": "stream",
          "name": "stdout",
          "text": [
            "<class 'pandas.core.frame.DataFrame'>\n",
            "Int64Index: 8110 entries, 0 to 8109\n",
            "Data columns (total 10 columns):\n",
            " #   Column          Non-Null Count  Dtype         \n",
            "---  ------          --------------  -----         \n",
            " 0   Symbol          8110 non-null   object        \n",
            " 1   Market          8110 non-null   object        \n",
            " 2   Name            8110 non-null   object        \n",
            " 3   Sector          2507 non-null   object        \n",
            " 4   Industry        2491 non-null   object        \n",
            " 5   ListingDate     2507 non-null   datetime64[ns]\n",
            " 6   SettleMonth     2507 non-null   object        \n",
            " 7   Representative  2507 non-null   object        \n",
            " 8   HomePage        2351 non-null   object        \n",
            " 9   Region          2507 non-null   object        \n",
            "dtypes: datetime64[ns](1), object(9)\n",
            "memory usage: 697.0+ KB\n"
          ]
        }
      ],
      "source": [
        "# info 로 요약 데이터를 봅니다.\n",
        "df.info() #결측치, 데이터타입 등 전체 데이터에 대한 요약정보를 알 수 있다."
      ]
    },
    {
      "cell_type": "code",
      "execution_count": 13,
      "metadata": {
        "id": "Jp0uSBgKpvUM",
        "colab": {
          "base_uri": "https://localhost:8080/",
          "height": 294
        },
        "outputId": "3cad6808-c6e8-457b-e3ca-a8d2739a5cf0"
      },
      "outputs": [
        {
          "output_type": "stream",
          "name": "stderr",
          "text": [
            "/usr/local/lib/python3.7/dist-packages/ipykernel_launcher.py:2: FutureWarning: Treating datetime data as categorical rather than numeric in `.describe` is deprecated and will be removed in a future version of pandas. Specify `datetime_is_numeric=True` to silence this warning and adopt the future behavior now.\n",
            "  \n"
          ]
        },
        {
          "output_type": "execute_result",
          "data": {
            "text/plain": [
              "        Symbol Market  Name          Sector Industry          ListingDate  \\\n",
              "count     8110   8110  8110            2507     2491                 2507   \n",
              "unique    8110      3  8110             161     2332                 1865   \n",
              "top     060310  KOSPI    3S  소프트웨어 개발 및 공급업   기업인수합병  1996-07-03 00:00:00   \n",
              "freq         1   6404     1             152       30                    8   \n",
              "first      NaN    NaN   NaN             NaN      NaN  1956-03-03 00:00:00   \n",
              "last       NaN    NaN   NaN             NaN      NaN  2022-07-07 00:00:00   \n",
              "\n",
              "       SettleMonth Representative                   HomePage Region  \n",
              "count         2507           2507                       2351   2507  \n",
              "unique           8           2388                       2330     22  \n",
              "top            12월              -  http://www.cheryong.co.kr  서울특별시  \n",
              "freq          2447              5                          2   1021  \n",
              "first          NaN            NaN                        NaN    NaN  \n",
              "last           NaN            NaN                        NaN    NaN  "
            ],
            "text/html": [
              "\n",
              "  <div id=\"df-24094f85-ea97-4bb4-aa14-697731895c45\">\n",
              "    <div class=\"colab-df-container\">\n",
              "      <div>\n",
              "<style scoped>\n",
              "    .dataframe tbody tr th:only-of-type {\n",
              "        vertical-align: middle;\n",
              "    }\n",
              "\n",
              "    .dataframe tbody tr th {\n",
              "        vertical-align: top;\n",
              "    }\n",
              "\n",
              "    .dataframe thead th {\n",
              "        text-align: right;\n",
              "    }\n",
              "</style>\n",
              "<table border=\"1\" class=\"dataframe\">\n",
              "  <thead>\n",
              "    <tr style=\"text-align: right;\">\n",
              "      <th></th>\n",
              "      <th>Symbol</th>\n",
              "      <th>Market</th>\n",
              "      <th>Name</th>\n",
              "      <th>Sector</th>\n",
              "      <th>Industry</th>\n",
              "      <th>ListingDate</th>\n",
              "      <th>SettleMonth</th>\n",
              "      <th>Representative</th>\n",
              "      <th>HomePage</th>\n",
              "      <th>Region</th>\n",
              "    </tr>\n",
              "  </thead>\n",
              "  <tbody>\n",
              "    <tr>\n",
              "      <th>count</th>\n",
              "      <td>8110</td>\n",
              "      <td>8110</td>\n",
              "      <td>8110</td>\n",
              "      <td>2507</td>\n",
              "      <td>2491</td>\n",
              "      <td>2507</td>\n",
              "      <td>2507</td>\n",
              "      <td>2507</td>\n",
              "      <td>2351</td>\n",
              "      <td>2507</td>\n",
              "    </tr>\n",
              "    <tr>\n",
              "      <th>unique</th>\n",
              "      <td>8110</td>\n",
              "      <td>3</td>\n",
              "      <td>8110</td>\n",
              "      <td>161</td>\n",
              "      <td>2332</td>\n",
              "      <td>1865</td>\n",
              "      <td>8</td>\n",
              "      <td>2388</td>\n",
              "      <td>2330</td>\n",
              "      <td>22</td>\n",
              "    </tr>\n",
              "    <tr>\n",
              "      <th>top</th>\n",
              "      <td>060310</td>\n",
              "      <td>KOSPI</td>\n",
              "      <td>3S</td>\n",
              "      <td>소프트웨어 개발 및 공급업</td>\n",
              "      <td>기업인수합병</td>\n",
              "      <td>1996-07-03 00:00:00</td>\n",
              "      <td>12월</td>\n",
              "      <td>-</td>\n",
              "      <td>http://www.cheryong.co.kr</td>\n",
              "      <td>서울특별시</td>\n",
              "    </tr>\n",
              "    <tr>\n",
              "      <th>freq</th>\n",
              "      <td>1</td>\n",
              "      <td>6404</td>\n",
              "      <td>1</td>\n",
              "      <td>152</td>\n",
              "      <td>30</td>\n",
              "      <td>8</td>\n",
              "      <td>2447</td>\n",
              "      <td>5</td>\n",
              "      <td>2</td>\n",
              "      <td>1021</td>\n",
              "    </tr>\n",
              "    <tr>\n",
              "      <th>first</th>\n",
              "      <td>NaN</td>\n",
              "      <td>NaN</td>\n",
              "      <td>NaN</td>\n",
              "      <td>NaN</td>\n",
              "      <td>NaN</td>\n",
              "      <td>1956-03-03 00:00:00</td>\n",
              "      <td>NaN</td>\n",
              "      <td>NaN</td>\n",
              "      <td>NaN</td>\n",
              "      <td>NaN</td>\n",
              "    </tr>\n",
              "    <tr>\n",
              "      <th>last</th>\n",
              "      <td>NaN</td>\n",
              "      <td>NaN</td>\n",
              "      <td>NaN</td>\n",
              "      <td>NaN</td>\n",
              "      <td>NaN</td>\n",
              "      <td>2022-07-07 00:00:00</td>\n",
              "      <td>NaN</td>\n",
              "      <td>NaN</td>\n",
              "      <td>NaN</td>\n",
              "      <td>NaN</td>\n",
              "    </tr>\n",
              "  </tbody>\n",
              "</table>\n",
              "</div>\n",
              "      <button class=\"colab-df-convert\" onclick=\"convertToInteractive('df-24094f85-ea97-4bb4-aa14-697731895c45')\"\n",
              "              title=\"Convert this dataframe to an interactive table.\"\n",
              "              style=\"display:none;\">\n",
              "        \n",
              "  <svg xmlns=\"http://www.w3.org/2000/svg\" height=\"24px\"viewBox=\"0 0 24 24\"\n",
              "       width=\"24px\">\n",
              "    <path d=\"M0 0h24v24H0V0z\" fill=\"none\"/>\n",
              "    <path d=\"M18.56 5.44l.94 2.06.94-2.06 2.06-.94-2.06-.94-.94-2.06-.94 2.06-2.06.94zm-11 1L8.5 8.5l.94-2.06 2.06-.94-2.06-.94L8.5 2.5l-.94 2.06-2.06.94zm10 10l.94 2.06.94-2.06 2.06-.94-2.06-.94-.94-2.06-.94 2.06-2.06.94z\"/><path d=\"M17.41 7.96l-1.37-1.37c-.4-.4-.92-.59-1.43-.59-.52 0-1.04.2-1.43.59L10.3 9.45l-7.72 7.72c-.78.78-.78 2.05 0 2.83L4 21.41c.39.39.9.59 1.41.59.51 0 1.02-.2 1.41-.59l7.78-7.78 2.81-2.81c.8-.78.8-2.07 0-2.86zM5.41 20L4 18.59l7.72-7.72 1.47 1.35L5.41 20z\"/>\n",
              "  </svg>\n",
              "      </button>\n",
              "      \n",
              "  <style>\n",
              "    .colab-df-container {\n",
              "      display:flex;\n",
              "      flex-wrap:wrap;\n",
              "      gap: 12px;\n",
              "    }\n",
              "\n",
              "    .colab-df-convert {\n",
              "      background-color: #E8F0FE;\n",
              "      border: none;\n",
              "      border-radius: 50%;\n",
              "      cursor: pointer;\n",
              "      display: none;\n",
              "      fill: #1967D2;\n",
              "      height: 32px;\n",
              "      padding: 0 0 0 0;\n",
              "      width: 32px;\n",
              "    }\n",
              "\n",
              "    .colab-df-convert:hover {\n",
              "      background-color: #E2EBFA;\n",
              "      box-shadow: 0px 1px 2px rgba(60, 64, 67, 0.3), 0px 1px 3px 1px rgba(60, 64, 67, 0.15);\n",
              "      fill: #174EA6;\n",
              "    }\n",
              "\n",
              "    [theme=dark] .colab-df-convert {\n",
              "      background-color: #3B4455;\n",
              "      fill: #D2E3FC;\n",
              "    }\n",
              "\n",
              "    [theme=dark] .colab-df-convert:hover {\n",
              "      background-color: #434B5C;\n",
              "      box-shadow: 0px 1px 3px 1px rgba(0, 0, 0, 0.15);\n",
              "      filter: drop-shadow(0px 1px 2px rgba(0, 0, 0, 0.3));\n",
              "      fill: #FFFFFF;\n",
              "    }\n",
              "  </style>\n",
              "\n",
              "      <script>\n",
              "        const buttonEl =\n",
              "          document.querySelector('#df-24094f85-ea97-4bb4-aa14-697731895c45 button.colab-df-convert');\n",
              "        buttonEl.style.display =\n",
              "          google.colab.kernel.accessAllowed ? 'block' : 'none';\n",
              "\n",
              "        async function convertToInteractive(key) {\n",
              "          const element = document.querySelector('#df-24094f85-ea97-4bb4-aa14-697731895c45');\n",
              "          const dataTable =\n",
              "            await google.colab.kernel.invokeFunction('convertToInteractive',\n",
              "                                                     [key], {});\n",
              "          if (!dataTable) return;\n",
              "\n",
              "          const docLinkHtml = 'Like what you see? Visit the ' +\n",
              "            '<a target=\"_blank\" href=https://colab.research.google.com/notebooks/data_table.ipynb>data table notebook</a>'\n",
              "            + ' to learn more about interactive tables.';\n",
              "          element.innerHTML = '';\n",
              "          dataTable['output_type'] = 'display_data';\n",
              "          await google.colab.output.renderOutput(dataTable, element);\n",
              "          const docLink = document.createElement('div');\n",
              "          docLink.innerHTML = docLinkHtml;\n",
              "          element.appendChild(docLink);\n",
              "        }\n",
              "      </script>\n",
              "    </div>\n",
              "  </div>\n",
              "  "
            ]
          },
          "metadata": {},
          "execution_count": 13
        }
      ],
      "source": [
        "# describe 로 기술통계값을 봅니다.\n",
        "df.describe()\n",
        "# unique는 중복을 제외한 고유값\n",
        "# top값은 가장 자주 등장하는 빈도의 값\n",
        "# freq는 최빈값에 대한 빈도수\n",
        "  "
      ]
    },
    {
      "cell_type": "code",
      "execution_count": 15,
      "metadata": {
        "id": "69JptyVOpvUM",
        "colab": {
          "base_uri": "https://localhost:8080/"
        },
        "outputId": "fc35b076-ee57-4a64-e5a3-a251863d1285"
      },
      "outputs": [
        {
          "output_type": "execute_result",
          "data": {
            "text/plain": [
              "Symbol            8110\n",
              "Market               3\n",
              "Name              8110\n",
              "Sector             161\n",
              "Industry          2332\n",
              "ListingDate       1865\n",
              "SettleMonth          8\n",
              "Representative    2388\n",
              "HomePage          2330\n",
              "Region              22\n",
              "dtype: int64"
            ]
          },
          "metadata": {},
          "execution_count": 15
        }
      ],
      "source": [
        "# 중복을 제외한 unique 값의 갯수를 봅니다.\n",
        "df.nunique()"
      ]
    },
    {
      "cell_type": "code",
      "execution_count": null,
      "metadata": {
        "id": "Q49E7UxCpvUM"
      },
      "outputs": [],
      "source": [
        ""
      ]
    },
    {
      "cell_type": "code",
      "execution_count": 16,
      "metadata": {
        "id": "PhfKE78kpvUM",
        "scrolled": true,
        "colab": {
          "base_uri": "https://localhost:8080/"
        },
        "outputId": "42508e51-2585-4dda-8ed2-af8a4fb584cd"
      },
      "outputs": [
        {
          "output_type": "execute_result",
          "data": {
            "text/plain": [
              "Int64Index([   0,    1,    2,    3,    4,    5,    6,    7,    8,    9,\n",
              "            ...\n",
              "            8100, 8101, 8102, 8103, 8104, 8105, 8106, 8107, 8108, 8109],\n",
              "           dtype='int64', length=8110)"
            ]
          },
          "metadata": {},
          "execution_count": 16
        }
      ],
      "source": [
        "# index 값 보기\n",
        "df.index"
      ]
    },
    {
      "cell_type": "code",
      "execution_count": 18,
      "metadata": {
        "id": "LVZW3j3_pvUN",
        "colab": {
          "base_uri": "https://localhost:8080/"
        },
        "outputId": "9aa718f8-a187-4e0c-d298-f9aadc1ecb2b"
      },
      "outputs": [
        {
          "output_type": "execute_result",
          "data": {
            "text/plain": [
              "Index(['Symbol', 'Market', 'Name', 'Sector', 'Industry', 'ListingDate',\n",
              "       'SettleMonth', 'Representative', 'HomePage', 'Region'],\n",
              "      dtype='object')"
            ]
          },
          "metadata": {},
          "execution_count": 18
        }
      ],
      "source": [
        "# 컬럼값 보기\n",
        "df.columns"
      ]
    },
    {
      "cell_type": "code",
      "execution_count": 19,
      "metadata": {
        "id": "yvrQ-7NzpvUN",
        "colab": {
          "base_uri": "https://localhost:8080/"
        },
        "outputId": "fcf2625b-e077-4463-dfc8-7d53ca986696"
      },
      "outputs": [
        {
          "output_type": "execute_result",
          "data": {
            "text/plain": [
              "array([['060310', 'KOSDAQ', '3S', ..., '김세완', 'http://www.3sref.com',\n",
              "        '서울특별시'],\n",
              "       ['095570', 'KOSPI', 'AJ네트웍스', ..., '박대현, 손삼달',\n",
              "        'http://www.ajnet.co.kr', '서울특별시'],\n",
              "       ['006840', 'KOSPI', 'AK홀딩스', ..., '채형석, 이석주(각자 대표이사)',\n",
              "        'http://www.aekyunggroup.co.kr', '서울특별시'],\n",
              "       ...,\n",
              "       ['419890', 'KOSPI', '히어로즈 단기채권ESG액티브', ..., nan, nan, nan],\n",
              "       ['429870', 'KOSPI', '히어로즈 리츠이지스액티브', ..., nan, nan, nan],\n",
              "       ['238490', 'KOSDAQ', '힘스', ..., '김주환', 'http://www.hims.co.kr',\n",
              "        '인천광역시']], dtype=object)"
            ]
          },
          "metadata": {},
          "execution_count": 19
        }
      ],
      "source": [
        "# 값만 보기\n",
        "df.values"
      ]
    },
    {
      "cell_type": "code",
      "source": [
        "df.dtypes"
      ],
      "metadata": {
        "colab": {
          "base_uri": "https://localhost:8080/"
        },
        "id": "Krr28mnECZzA",
        "outputId": "c32a0544-9129-4ed3-d313-d43c1322e9c8"
      },
      "execution_count": 20,
      "outputs": [
        {
          "output_type": "execute_result",
          "data": {
            "text/plain": [
              "Symbol                    object\n",
              "Market                    object\n",
              "Name                      object\n",
              "Sector                    object\n",
              "Industry                  object\n",
              "ListingDate       datetime64[ns]\n",
              "SettleMonth               object\n",
              "Representative            object\n",
              "HomePage                  object\n",
              "Region                    object\n",
              "dtype: object"
            ]
          },
          "metadata": {},
          "execution_count": 20
        }
      ]
    },
    {
      "cell_type": "markdown",
      "metadata": {
        "id": "j_40HHdZpvUN"
      },
      "source": [
        "## 데이터 색인하기\n",
        "\n",
        "### Series\n",
        "<img src=\"https://pandas.pydata.org/docs/_images/01_table_series.svg\">"
      ]
    },
    {
      "cell_type": "code",
      "source": [
        "df\n"
      ],
      "metadata": {
        "colab": {
          "base_uri": "https://localhost:8080/",
          "height": 624
        },
        "id": "QUighv0ZDz_4",
        "outputId": "3637d1ba-dd0f-4cf8-c496-b42cbd8fefa2"
      },
      "execution_count": 26,
      "outputs": [
        {
          "output_type": "execute_result",
          "data": {
            "text/plain": [
              "      Symbol  Market             Name           Sector  \\\n",
              "0     060310  KOSDAQ               3S         전자부품 제조업   \n",
              "1     095570   KOSPI           AJ네트웍스  산업용 기계 및 장비 임대업   \n",
              "2     006840   KOSPI            AK홀딩스           기타 금융업   \n",
              "3     054620  KOSDAQ           APS홀딩스           기타 금융업   \n",
              "4     265520  KOSDAQ            AP시스템    특수 목적용 기계 제조업   \n",
              "...      ...     ...              ...              ...   \n",
              "8105  435540   KOSPI  히어로즈 TDF2040액티브              NaN   \n",
              "8106  435550   KOSPI  히어로즈 TDF2050액티브              NaN   \n",
              "8107  419890   KOSPI  히어로즈 단기채권ESG액티브              NaN   \n",
              "8108  429870   KOSPI    히어로즈 리츠이지스액티브              NaN   \n",
              "8109  238490  KOSDAQ               힘스    특수 목적용 기계 제조업   \n",
              "\n",
              "                            Industry ListingDate SettleMonth  \\\n",
              "0                        반도체 웨이퍼 캐리어  2002-04-23         03월   \n",
              "1                렌탈(파렛트, OA장비, 건설장비)  2015-08-21         12월   \n",
              "2                               지주사업  1999-08-11         12월   \n",
              "3                        인터넷 트래픽 솔루션  2001-12-04         12월   \n",
              "4                        디스플레이 제조 장비  2017-04-07         12월   \n",
              "...                              ...         ...         ...   \n",
              "8105                             NaN         NaT         NaN   \n",
              "8106                             NaN         NaT         NaN   \n",
              "8107                             NaN         NaT         NaN   \n",
              "8108                             NaN         NaT         NaN   \n",
              "8109  OLED Mask 인장기, OLED Mask 검사기 등  2017-07-20         12월   \n",
              "\n",
              "         Representative                       HomePage Region  \n",
              "0                   김세완           http://www.3sref.com  서울특별시  \n",
              "1              박대현, 손삼달         http://www.ajnet.co.kr  서울특별시  \n",
              "2     채형석, 이석주(각자 대표이사)  http://www.aekyunggroup.co.kr  서울특별시  \n",
              "3                   정기로   http://www.apsholdings.co.kr    경기도  \n",
              "4                   김영주     http://www.apsystems.co.kr    경기도  \n",
              "...                 ...                            ...    ...  \n",
              "8105                NaN                            NaN    NaN  \n",
              "8106                NaN                            NaN    NaN  \n",
              "8107                NaN                            NaN    NaN  \n",
              "8108                NaN                            NaN    NaN  \n",
              "8109                김주환          http://www.hims.co.kr  인천광역시  \n",
              "\n",
              "[8110 rows x 10 columns]"
            ],
            "text/html": [
              "\n",
              "  <div id=\"df-a0092d8a-07d6-45da-a0ba-1a0c56cd50ef\">\n",
              "    <div class=\"colab-df-container\">\n",
              "      <div>\n",
              "<style scoped>\n",
              "    .dataframe tbody tr th:only-of-type {\n",
              "        vertical-align: middle;\n",
              "    }\n",
              "\n",
              "    .dataframe tbody tr th {\n",
              "        vertical-align: top;\n",
              "    }\n",
              "\n",
              "    .dataframe thead th {\n",
              "        text-align: right;\n",
              "    }\n",
              "</style>\n",
              "<table border=\"1\" class=\"dataframe\">\n",
              "  <thead>\n",
              "    <tr style=\"text-align: right;\">\n",
              "      <th></th>\n",
              "      <th>Symbol</th>\n",
              "      <th>Market</th>\n",
              "      <th>Name</th>\n",
              "      <th>Sector</th>\n",
              "      <th>Industry</th>\n",
              "      <th>ListingDate</th>\n",
              "      <th>SettleMonth</th>\n",
              "      <th>Representative</th>\n",
              "      <th>HomePage</th>\n",
              "      <th>Region</th>\n",
              "    </tr>\n",
              "  </thead>\n",
              "  <tbody>\n",
              "    <tr>\n",
              "      <th>0</th>\n",
              "      <td>060310</td>\n",
              "      <td>KOSDAQ</td>\n",
              "      <td>3S</td>\n",
              "      <td>전자부품 제조업</td>\n",
              "      <td>반도체 웨이퍼 캐리어</td>\n",
              "      <td>2002-04-23</td>\n",
              "      <td>03월</td>\n",
              "      <td>김세완</td>\n",
              "      <td>http://www.3sref.com</td>\n",
              "      <td>서울특별시</td>\n",
              "    </tr>\n",
              "    <tr>\n",
              "      <th>1</th>\n",
              "      <td>095570</td>\n",
              "      <td>KOSPI</td>\n",
              "      <td>AJ네트웍스</td>\n",
              "      <td>산업용 기계 및 장비 임대업</td>\n",
              "      <td>렌탈(파렛트, OA장비, 건설장비)</td>\n",
              "      <td>2015-08-21</td>\n",
              "      <td>12월</td>\n",
              "      <td>박대현, 손삼달</td>\n",
              "      <td>http://www.ajnet.co.kr</td>\n",
              "      <td>서울특별시</td>\n",
              "    </tr>\n",
              "    <tr>\n",
              "      <th>2</th>\n",
              "      <td>006840</td>\n",
              "      <td>KOSPI</td>\n",
              "      <td>AK홀딩스</td>\n",
              "      <td>기타 금융업</td>\n",
              "      <td>지주사업</td>\n",
              "      <td>1999-08-11</td>\n",
              "      <td>12월</td>\n",
              "      <td>채형석, 이석주(각자 대표이사)</td>\n",
              "      <td>http://www.aekyunggroup.co.kr</td>\n",
              "      <td>서울특별시</td>\n",
              "    </tr>\n",
              "    <tr>\n",
              "      <th>3</th>\n",
              "      <td>054620</td>\n",
              "      <td>KOSDAQ</td>\n",
              "      <td>APS홀딩스</td>\n",
              "      <td>기타 금융업</td>\n",
              "      <td>인터넷 트래픽 솔루션</td>\n",
              "      <td>2001-12-04</td>\n",
              "      <td>12월</td>\n",
              "      <td>정기로</td>\n",
              "      <td>http://www.apsholdings.co.kr</td>\n",
              "      <td>경기도</td>\n",
              "    </tr>\n",
              "    <tr>\n",
              "      <th>4</th>\n",
              "      <td>265520</td>\n",
              "      <td>KOSDAQ</td>\n",
              "      <td>AP시스템</td>\n",
              "      <td>특수 목적용 기계 제조업</td>\n",
              "      <td>디스플레이 제조 장비</td>\n",
              "      <td>2017-04-07</td>\n",
              "      <td>12월</td>\n",
              "      <td>김영주</td>\n",
              "      <td>http://www.apsystems.co.kr</td>\n",
              "      <td>경기도</td>\n",
              "    </tr>\n",
              "    <tr>\n",
              "      <th>...</th>\n",
              "      <td>...</td>\n",
              "      <td>...</td>\n",
              "      <td>...</td>\n",
              "      <td>...</td>\n",
              "      <td>...</td>\n",
              "      <td>...</td>\n",
              "      <td>...</td>\n",
              "      <td>...</td>\n",
              "      <td>...</td>\n",
              "      <td>...</td>\n",
              "    </tr>\n",
              "    <tr>\n",
              "      <th>8105</th>\n",
              "      <td>435540</td>\n",
              "      <td>KOSPI</td>\n",
              "      <td>히어로즈 TDF2040액티브</td>\n",
              "      <td>NaN</td>\n",
              "      <td>NaN</td>\n",
              "      <td>NaT</td>\n",
              "      <td>NaN</td>\n",
              "      <td>NaN</td>\n",
              "      <td>NaN</td>\n",
              "      <td>NaN</td>\n",
              "    </tr>\n",
              "    <tr>\n",
              "      <th>8106</th>\n",
              "      <td>435550</td>\n",
              "      <td>KOSPI</td>\n",
              "      <td>히어로즈 TDF2050액티브</td>\n",
              "      <td>NaN</td>\n",
              "      <td>NaN</td>\n",
              "      <td>NaT</td>\n",
              "      <td>NaN</td>\n",
              "      <td>NaN</td>\n",
              "      <td>NaN</td>\n",
              "      <td>NaN</td>\n",
              "    </tr>\n",
              "    <tr>\n",
              "      <th>8107</th>\n",
              "      <td>419890</td>\n",
              "      <td>KOSPI</td>\n",
              "      <td>히어로즈 단기채권ESG액티브</td>\n",
              "      <td>NaN</td>\n",
              "      <td>NaN</td>\n",
              "      <td>NaT</td>\n",
              "      <td>NaN</td>\n",
              "      <td>NaN</td>\n",
              "      <td>NaN</td>\n",
              "      <td>NaN</td>\n",
              "    </tr>\n",
              "    <tr>\n",
              "      <th>8108</th>\n",
              "      <td>429870</td>\n",
              "      <td>KOSPI</td>\n",
              "      <td>히어로즈 리츠이지스액티브</td>\n",
              "      <td>NaN</td>\n",
              "      <td>NaN</td>\n",
              "      <td>NaT</td>\n",
              "      <td>NaN</td>\n",
              "      <td>NaN</td>\n",
              "      <td>NaN</td>\n",
              "      <td>NaN</td>\n",
              "    </tr>\n",
              "    <tr>\n",
              "      <th>8109</th>\n",
              "      <td>238490</td>\n",
              "      <td>KOSDAQ</td>\n",
              "      <td>힘스</td>\n",
              "      <td>특수 목적용 기계 제조업</td>\n",
              "      <td>OLED Mask 인장기, OLED Mask 검사기 등</td>\n",
              "      <td>2017-07-20</td>\n",
              "      <td>12월</td>\n",
              "      <td>김주환</td>\n",
              "      <td>http://www.hims.co.kr</td>\n",
              "      <td>인천광역시</td>\n",
              "    </tr>\n",
              "  </tbody>\n",
              "</table>\n",
              "<p>8110 rows × 10 columns</p>\n",
              "</div>\n",
              "      <button class=\"colab-df-convert\" onclick=\"convertToInteractive('df-a0092d8a-07d6-45da-a0ba-1a0c56cd50ef')\"\n",
              "              title=\"Convert this dataframe to an interactive table.\"\n",
              "              style=\"display:none;\">\n",
              "        \n",
              "  <svg xmlns=\"http://www.w3.org/2000/svg\" height=\"24px\"viewBox=\"0 0 24 24\"\n",
              "       width=\"24px\">\n",
              "    <path d=\"M0 0h24v24H0V0z\" fill=\"none\"/>\n",
              "    <path d=\"M18.56 5.44l.94 2.06.94-2.06 2.06-.94-2.06-.94-.94-2.06-.94 2.06-2.06.94zm-11 1L8.5 8.5l.94-2.06 2.06-.94-2.06-.94L8.5 2.5l-.94 2.06-2.06.94zm10 10l.94 2.06.94-2.06 2.06-.94-2.06-.94-.94-2.06-.94 2.06-2.06.94z\"/><path d=\"M17.41 7.96l-1.37-1.37c-.4-.4-.92-.59-1.43-.59-.52 0-1.04.2-1.43.59L10.3 9.45l-7.72 7.72c-.78.78-.78 2.05 0 2.83L4 21.41c.39.39.9.59 1.41.59.51 0 1.02-.2 1.41-.59l7.78-7.78 2.81-2.81c.8-.78.8-2.07 0-2.86zM5.41 20L4 18.59l7.72-7.72 1.47 1.35L5.41 20z\"/>\n",
              "  </svg>\n",
              "      </button>\n",
              "      \n",
              "  <style>\n",
              "    .colab-df-container {\n",
              "      display:flex;\n",
              "      flex-wrap:wrap;\n",
              "      gap: 12px;\n",
              "    }\n",
              "\n",
              "    .colab-df-convert {\n",
              "      background-color: #E8F0FE;\n",
              "      border: none;\n",
              "      border-radius: 50%;\n",
              "      cursor: pointer;\n",
              "      display: none;\n",
              "      fill: #1967D2;\n",
              "      height: 32px;\n",
              "      padding: 0 0 0 0;\n",
              "      width: 32px;\n",
              "    }\n",
              "\n",
              "    .colab-df-convert:hover {\n",
              "      background-color: #E2EBFA;\n",
              "      box-shadow: 0px 1px 2px rgba(60, 64, 67, 0.3), 0px 1px 3px 1px rgba(60, 64, 67, 0.15);\n",
              "      fill: #174EA6;\n",
              "    }\n",
              "\n",
              "    [theme=dark] .colab-df-convert {\n",
              "      background-color: #3B4455;\n",
              "      fill: #D2E3FC;\n",
              "    }\n",
              "\n",
              "    [theme=dark] .colab-df-convert:hover {\n",
              "      background-color: #434B5C;\n",
              "      box-shadow: 0px 1px 3px 1px rgba(0, 0, 0, 0.15);\n",
              "      filter: drop-shadow(0px 1px 2px rgba(0, 0, 0, 0.3));\n",
              "      fill: #FFFFFF;\n",
              "    }\n",
              "  </style>\n",
              "\n",
              "      <script>\n",
              "        const buttonEl =\n",
              "          document.querySelector('#df-a0092d8a-07d6-45da-a0ba-1a0c56cd50ef button.colab-df-convert');\n",
              "        buttonEl.style.display =\n",
              "          google.colab.kernel.accessAllowed ? 'block' : 'none';\n",
              "\n",
              "        async function convertToInteractive(key) {\n",
              "          const element = document.querySelector('#df-a0092d8a-07d6-45da-a0ba-1a0c56cd50ef');\n",
              "          const dataTable =\n",
              "            await google.colab.kernel.invokeFunction('convertToInteractive',\n",
              "                                                     [key], {});\n",
              "          if (!dataTable) return;\n",
              "\n",
              "          const docLinkHtml = 'Like what you see? Visit the ' +\n",
              "            '<a target=\"_blank\" href=https://colab.research.google.com/notebooks/data_table.ipynb>data table notebook</a>'\n",
              "            + ' to learn more about interactive tables.';\n",
              "          element.innerHTML = '';\n",
              "          dataTable['output_type'] = 'display_data';\n",
              "          await google.colab.output.renderOutput(dataTable, element);\n",
              "          const docLink = document.createElement('div');\n",
              "          docLink.innerHTML = docLinkHtml;\n",
              "          element.appendChild(docLink);\n",
              "        }\n",
              "      </script>\n",
              "    </div>\n",
              "  </div>\n",
              "  "
            ]
          },
          "metadata": {},
          "execution_count": 26
        }
      ]
    },
    {
      "cell_type": "code",
      "source": [
        "type(df)"
      ],
      "metadata": {
        "colab": {
          "base_uri": "https://localhost:8080/"
        },
        "id": "dybHasrbC9KI",
        "outputId": "b2597698-62c9-4363-88fe-c0e2a502adcd"
      },
      "execution_count": 21,
      "outputs": [
        {
          "output_type": "execute_result",
          "data": {
            "text/plain": [
              "pandas.core.frame.DataFrame"
            ]
          },
          "metadata": {},
          "execution_count": 21
        }
      ]
    },
    {
      "cell_type": "code",
      "execution_count": 22,
      "metadata": {
        "id": "ejO0TJqepvUV",
        "colab": {
          "base_uri": "https://localhost:8080/"
        },
        "outputId": "2b19f8fe-d198-4d6f-af57-08721dd7bbfd"
      },
      "outputs": [
        {
          "output_type": "execute_result",
          "data": {
            "text/plain": [
              "0                    3S\n",
              "1                AJ네트웍스\n",
              "2                 AK홀딩스\n",
              "3                APS홀딩스\n",
              "4                 AP시스템\n",
              "             ...       \n",
              "8105    히어로즈 TDF2040액티브\n",
              "8106    히어로즈 TDF2050액티브\n",
              "8107    히어로즈 단기채권ESG액티브\n",
              "8108      히어로즈 리츠이지스액티브\n",
              "8109                 힘스\n",
              "Name: Name, Length: 8110, dtype: object"
            ]
          },
          "metadata": {},
          "execution_count": 22
        }
      ],
      "source": [
        "# Name 컬럼 하나만 가져옵니다.\n",
        "df[\"Name\"]"
      ]
    },
    {
      "cell_type": "code",
      "execution_count": 23,
      "metadata": {
        "id": "WHgJ3e5ypvUV",
        "colab": {
          "base_uri": "https://localhost:8080/"
        },
        "outputId": "441224b0-012d-493d-a0d4-862c2ee161b2"
      },
      "outputs": [
        {
          "output_type": "execute_result",
          "data": {
            "text/plain": [
              "pandas.core.series.Series"
            ]
          },
          "metadata": {},
          "execution_count": 23
        }
      ],
      "source": [
        "# df[\"Name\"] 의 type을 봅니다.\n",
        "type(df[\"Name\"])"
      ]
    },
    {
      "cell_type": "code",
      "execution_count": 25,
      "metadata": {
        "id": "c6BfMs8FpvUW",
        "colab": {
          "base_uri": "https://localhost:8080/"
        },
        "outputId": "b9cf7c39-4452-4282-bc0a-e1a66f7e5b57"
      },
      "outputs": [
        {
          "output_type": "execute_result",
          "data": {
            "text/plain": [
              "Symbol                          060310\n",
              "Market                          KOSDAQ\n",
              "Name                                3S\n",
              "Sector                        전자부품 제조업\n",
              "Industry                   반도체 웨이퍼 캐리어\n",
              "ListingDate        2002-04-23 00:00:00\n",
              "SettleMonth                        03월\n",
              "Representative                     김세완\n",
              "HomePage          http://www.3sref.com\n",
              "Region                           서울특별시\n",
              "Name: 0, dtype: object"
            ]
          },
          "metadata": {},
          "execution_count": 25
        }
      ],
      "source": [
        "# 0번째 행만 가져옵니다. 행인덱스를 가져올때는 .loc를 사용합니다.\n",
        "# loc는 위치(locate)를 의미합니다.\n",
        "df.loc[0]"
      ]
    },
    {
      "cell_type": "code",
      "execution_count": 27,
      "metadata": {
        "id": "eqWOy3BVpvUW",
        "colab": {
          "base_uri": "https://localhost:8080/"
        },
        "outputId": "34ee44ad-b749-4344-f858-6e4b320e9a2d"
      },
      "outputs": [
        {
          "output_type": "execute_result",
          "data": {
            "text/plain": [
              "pandas.core.series.Series"
            ]
          },
          "metadata": {},
          "execution_count": 27
        }
      ],
      "source": [
        "# df.loc[0] 의 type을 봅니다.\n",
        "type(df.loc[0])"
      ]
    },
    {
      "cell_type": "markdown",
      "metadata": {
        "id": "46PCkQdapvUW"
      },
      "source": [
        "### DataFrame\n",
        "<img src=\"https://pandas.pydata.org/docs/_images/01_table_dataframe.svg\">"
      ]
    },
    {
      "cell_type": "code",
      "execution_count": null,
      "metadata": {
        "id": "s8fAnMn7pvUW"
      },
      "outputs": [],
      "source": [
        "# df 변수의 타입을 봅니다.\n"
      ]
    },
    {
      "cell_type": "code",
      "execution_count": null,
      "metadata": {
        "id": "OwDadE6ppvUX"
      },
      "outputs": [],
      "source": [
        "# 여러 컬럼을 지정할 때는 리스트 형태로 묶어주어야 합니다. \n",
        "# 2차원 행렬은 대괄호가 [] 2개가 있다는 것을 기억해 주세요. \n"
      ]
    },
    {
      "cell_type": "code",
      "execution_count": null,
      "metadata": {
        "id": "9NwcXGi7pvUX"
      },
      "outputs": [],
      "source": [
        "# 여러 개의 행을 가져올 때도 [] 대괄호를 통해 리스트 형태로 묶어줍니다.\n"
      ]
    },
    {
      "cell_type": "code",
      "execution_count": null,
      "metadata": {
        "id": "6l5qBNMEpvUX"
      },
      "outputs": [],
      "source": [
        "# 1개의 컬럼을 가져올 때도 대괄호[] 2개를 써서 리스트 형태로 묶어주게 되면 데이터프레임 형태로 반환됩니다.\n",
        "# \"Name\" 을 데이터프레임으로 가져옵니다.\n"
      ]
    },
    {
      "cell_type": "code",
      "execution_count": null,
      "metadata": {
        "id": "kv9mVXEopvUX"
      },
      "outputs": [],
      "source": [
        ""
      ]
    },
    {
      "cell_type": "markdown",
      "metadata": {
        "id": "7On6hTKvpvUX"
      },
      "source": [
        "### loc를 통한 서브셋 가져오기\n",
        "<img src=\"https://pandas.pydata.org/pandas-docs/stable/_images/03_subset_columns_rows.svg\">"
      ]
    },
    {
      "cell_type": "code",
      "execution_count": null,
      "metadata": {
        "id": "_p6SnCy8pvUY"
      },
      "outputs": [],
      "source": [
        "# 행과 열 함께 가져오기\n",
        "# .loc[행, 열]\n"
      ]
    },
    {
      "cell_type": "code",
      "execution_count": null,
      "metadata": {
        "id": "xof0nMoPpvUZ"
      },
      "outputs": [],
      "source": [
        "# .loc[행, 열]\n"
      ]
    },
    {
      "cell_type": "code",
      "execution_count": null,
      "metadata": {
        "id": "mrBG5HtGpvUZ"
      },
      "outputs": [],
      "source": [
        "# %timeit\n"
      ]
    },
    {
      "cell_type": "code",
      "execution_count": null,
      "metadata": {
        "id": "lPlwuRSTpvUZ"
      },
      "outputs": [],
      "source": [
        "# %timeit\n"
      ]
    },
    {
      "cell_type": "code",
      "execution_count": null,
      "metadata": {
        "id": "sfJ3bjKXpvUZ"
      },
      "outputs": [],
      "source": [
        "# 여러 개의 행과 하나의 컬럼 가져오기\n",
        "# .loc[행, 열]\n"
      ]
    },
    {
      "cell_type": "code",
      "execution_count": null,
      "metadata": {
        "id": "lE7RbH_-pvUZ"
      },
      "outputs": [],
      "source": [
        "# 여러개의 행과 여러 개의 컬럼 가져오기\n",
        "# .loc[행, 열]\n"
      ]
    },
    {
      "cell_type": "markdown",
      "metadata": {
        "id": "aulcxqy-pvUZ"
      },
      "source": [
        "### Boolean Indexing\n",
        "* 결과값이 True, False bool 형태로 반환되기 때문에 boolean indexing 이라고 부릅니다.\n",
        "* boolean indexing 을 사용해 특정 조건식을 만족하는 데이터를 서브셋으로 가져옵니다.\n",
        "\n",
        "<img src=\"https://pandas.pydata.org/docs/_images/03_subset_rows.svg\">"
      ]
    },
    {
      "cell_type": "code",
      "execution_count": null,
      "metadata": {
        "id": "pq_61VGrpvUa"
      },
      "outputs": [],
      "source": [
        "# 카카오를 찾습니다.\n"
      ]
    },
    {
      "cell_type": "markdown",
      "metadata": {
        "id": "Wr-tVCPZpvUa"
      },
      "source": [
        "<img src=\"https://pandas.pydata.org/pandas-docs/stable/_images/03_subset_columns_rows.svg\">"
      ]
    },
    {
      "cell_type": "code",
      "execution_count": null,
      "metadata": {
        "id": "epAfeUTmpvUc"
      },
      "outputs": [],
      "source": [
        "# and => &\n",
        "# or => |\n",
        "True and False"
      ]
    },
    {
      "cell_type": "code",
      "execution_count": null,
      "metadata": {
        "id": "V0cQS_nkpvUd"
      },
      "outputs": [],
      "source": [
        "# 서울특별시에 소재지를 두고 있는 KOSPI 종목의 종목명과 심볼을 가져옵니다.\n",
        "# .loc[행, 열]\n",
        "# .loc[조건식, 열]\n",
        "# df.loc[(df[\"Region\"] == \"서울특별시\") & (df[\"Market\"] == \"KOSPI\"), [\"Symbol\", \"Name\"]]\n",
        "\n"
      ]
    },
    {
      "cell_type": "markdown",
      "metadata": {
        "id": "hqxwr_d-pvUd"
      },
      "source": [
        "## 파생변수 만들기"
      ]
    },
    {
      "cell_type": "code",
      "execution_count": null,
      "metadata": {
        "id": "Ll_pQMCvpvUd"
      },
      "outputs": [],
      "source": [
        "# ListingYear 파생변수 만들기\n"
      ]
    },
    {
      "cell_type": "code",
      "execution_count": null,
      "metadata": {
        "id": "dVINArCNpvUe"
      },
      "outputs": [],
      "source": [
        "# nan은 not a number의 약자로 결측치를 의미합니다.\n"
      ]
    },
    {
      "cell_type": "code",
      "execution_count": null,
      "metadata": {
        "id": "wCBH3r5gpvUe"
      },
      "outputs": [],
      "source": [
        ""
      ]
    },
    {
      "cell_type": "markdown",
      "metadata": {
        "id": "PJeu33YipvUe"
      },
      "source": [
        "## 데이터 시각화 툴 소개\n",
        "\n",
        "<img src=\"https://rougier.github.io/python-visualization-landscape/landscape-colors.png\">\n",
        "\n",
        "### matplotlib\n",
        "* [Anatomy of a figure — Matplotlib documentation](https://matplotlib.org/3.1.1/gallery/showcase/anatomy.html)\n",
        "\n",
        "### seaborn\n",
        "* [seaborn: statistical data visualization — seaborn documentation](https://seaborn.pydata.org/index.html)\n",
        "\n",
        "### pandas\n",
        "* [Visualization — pandas documentation](https://pandas.pydata.org/pandas-docs/stable/user_guide/visualization.html)"
      ]
    },
    {
      "cell_type": "markdown",
      "metadata": {
        "id": "UKojh73hpvUf"
      },
      "source": [
        "## 데이터 시각화를 위한 폰트설정"
      ]
    },
    {
      "cell_type": "code",
      "execution_count": null,
      "metadata": {
        "id": "7MB6-SINRq45"
      },
      "outputs": [],
      "source": [
        "!pip install koreanize-matplotlib"
      ]
    },
    {
      "cell_type": "code",
      "execution_count": null,
      "metadata": {
        "id": "PXNDX-mEpvUf"
      },
      "outputs": [],
      "source": [
        "import koreanize_matplotlib"
      ]
    },
    {
      "cell_type": "markdown",
      "metadata": {
        "id": "UL1sIrJ-pvUg"
      },
      "source": [
        "### 폰트 설정 확인하기"
      ]
    },
    {
      "cell_type": "code",
      "execution_count": null,
      "metadata": {
        "id": "2YVbXwmFpvUg",
        "scrolled": false
      },
      "outputs": [],
      "source": [
        "# 한글폰트 확인하기\n"
      ]
    },
    {
      "cell_type": "markdown",
      "metadata": {
        "id": "-PIfXEzppvUg"
      },
      "source": [
        "## 한 개의 변수 빈도수 구하고 시각화 하기\n",
        "* Keyword\n",
        "\n",
        "    * Series.value_counts()\n",
        "    * Series.value_counts().plot()\n",
        "    * Series.value_counts().plot.bar()\n",
        "    * Series.value_counts().plot.barh()\n",
        "    * sns.countplot()\n",
        "\n",
        "### Market\n",
        "\n",
        "* KOSPI (Korea Composite Stock Price Index) \n",
        "    * 우리나라의 종합주가지수(KOSPI)는 증권거래소가 1964.1.4일을 기준시점으로 다우존스식 주가평균을 지수화한 수정주가 평균지수를 산출, 발표하기 시작하였다. 다우존스식 주가지수는 주가지수를 구성하는 상장종목 중 일부 우량주만을 선정하여 산출하는 방식이다. 시가총액식 주가지수는 일정시점의 시가총액과 현재시점의 시가총액을 대비, 현재의 주가수준을 판단하는 방식이다. 즉, 지난 1980년 1월 4일 기준 상장종목 전체의 시가총액을 100으로 보고 현재 상장종목들의 시가총액이 어느 수준에 놓여 있는지를 보여주는 시스템이다.\n",
        "    * 종합주가지수 = (비교시점의 시가총액 ÷ 기준시점의 시가총액) × 100\n",
        "    * 출처 : [네이버 지식백과] 종합주가지수 (시사상식사전, pmg 지식엔진연구소) https://terms.naver.com/entry.nhn?docId=72147&cid=43667&categoryId=43667\n",
        "\n",
        "\n",
        "* KOSDAQ (Korea Securities Dealers Automated Quotation) \n",
        "    * 미국의 나스닥(NASDAQ)을 한국식으로 합성한 용어로 1996년 7월 1일 증권업협회와 증권사들이 설립한 코스닥증권(주)에 의하여 개설되었다. 코스닥의 개장으로 단순히 증권거래소 상장을 위한 예비적 단계였던 장외시장이 미국의 나스닥(NASDAQ)과 같이 자금조달 및 투자시장으로 독립적인 역할을 수행하게 되었다. 이후 2005년 1월 유가증권시장, 코스닥시장, 선물시장이 증권선물거래소(현 한국거래소)로 통합됨에 따라 코스닥시장도 거래소가 개설한 정규시장으로 편입되었다. 코스닥은 유가증권시장에 비해 진입요건이 상대적으로 덜 까다롭기 때문에 주로 중소벤처기업들이 상장되어 있다.\n",
        "    * 출처 : [네이버 지식백과] KOSDAQ (매일경제, 매경닷컴) https://terms.naver.com/entry.nhn?docId=18639&cid=43659&categoryId=43659\n",
        "\n",
        "\n",
        "* KONEX(Korea New Exchange) : \n",
        "    * 일정 요건을 갖춘 비상장 기업에 문호를 개방하기 위해 개설하는 유가증권시장, 코스닥시장에 이은 제3의 주식시장을 일컫는다. 코넥스시장은 우수한 기술력을 보유하고 있음에도 불구하고, 짧은 경력 등을 이유로 자금 조달에 어려움을 겪는 초기 중소기업과 벤처기업이 자금을 원활하게 조달할 수 있도록 하기 위해 설립된 자본시장으로, 2013년 7월 1일 개장되었다. \n",
        "    * 출처 : [네이버 지식백과] 코넥스 (시사상식사전, pmg 지식엔진연구소) https://terms.naver.com/entry.nhn?docId=1006691&cid=43667&categoryId=43667"
      ]
    },
    {
      "cell_type": "code",
      "execution_count": null,
      "metadata": {
        "id": "n0oYL3gNpvUi",
        "scrolled": false
      },
      "outputs": [],
      "source": [
        "# Market column에 어떤 데이터들이 있는지 unique로 확인합니다.\n"
      ]
    },
    {
      "cell_type": "code",
      "execution_count": null,
      "metadata": {
        "id": "a_V7M6zwpvUj"
      },
      "outputs": [],
      "source": [
        "# value_counts()로 빈도수를 구합니다.\n"
      ]
    },
    {
      "cell_type": "code",
      "execution_count": null,
      "metadata": {
        "id": "jGu-FTOCpvUk"
      },
      "outputs": [],
      "source": [
        "# 빈도수를 시각화 합니다.\n"
      ]
    },
    {
      "cell_type": "code",
      "execution_count": null,
      "metadata": {
        "id": "Sv03_RVupvUk"
      },
      "outputs": [],
      "source": [
        "# Seaborn countplot 활용하여 빈도수를 표현합니다.\n"
      ]
    },
    {
      "cell_type": "markdown",
      "metadata": {
        "id": "1lweNjNYpvUl"
      },
      "source": [
        "### Sector"
      ]
    },
    {
      "cell_type": "code",
      "execution_count": null,
      "metadata": {
        "id": "7_g-9VPypvUm"
      },
      "outputs": [],
      "source": [
        "# 섹터의 빈도수를 구합니다.\n",
        "# 상위 30개 섹터의 빈도수를 sector_count_top 변수에 할당합니다.\n",
        "# sector_count_top\n"
      ]
    },
    {
      "cell_type": "code",
      "execution_count": null,
      "metadata": {
        "id": "GV7AQvrypvUo"
      },
      "outputs": [],
      "source": [
        "# df_sector_30"
      ]
    },
    {
      "cell_type": "code",
      "execution_count": null,
      "metadata": {
        "id": "GaCSxCygpvUo"
      },
      "outputs": [],
      "source": [
        "# Seaborn countplot 활용하여 빈도수를 표현합니다.\n"
      ]
    },
    {
      "cell_type": "code",
      "execution_count": null,
      "metadata": {
        "id": "VR0Fi5bVpvUo"
      },
      "outputs": [],
      "source": [
        "print(plt.colormaps())"
      ]
    },
    {
      "cell_type": "code",
      "execution_count": null,
      "metadata": {
        "id": "1awzdYDYpvUo"
      },
      "outputs": [],
      "source": [
        "# 빈도수가 가장 많은 데이터 색인하기\n"
      ]
    },
    {
      "cell_type": "markdown",
      "metadata": {
        "id": "Gp_BpV0gpvUp"
      },
      "source": [
        "### Industry"
      ]
    },
    {
      "cell_type": "code",
      "execution_count": null,
      "metadata": {
        "id": "oPPltzNspvUp"
      },
      "outputs": [],
      "source": [
        "# Industry 의 빈도수를 구합니다.\n",
        "# industry_top30"
      ]
    },
    {
      "cell_type": "code",
      "execution_count": null,
      "metadata": {
        "id": "WgGkddmKpvUp",
        "scrolled": false
      },
      "outputs": [],
      "source": [
        "# Industry 빈도수를 pandas 의 plot 기능을 사용해 시각화 합니다.\n"
      ]
    },
    {
      "cell_type": "code",
      "execution_count": null,
      "metadata": {
        "id": "dOBMoZ7opvUp"
      },
      "outputs": [],
      "source": [
        "# df[df[\"Industry\"].isin(industry_top30.index)]"
      ]
    },
    {
      "cell_type": "code",
      "execution_count": null,
      "metadata": {
        "id": "8ow_vS4CpvUp"
      },
      "outputs": [],
      "source": [
        "# seaborn\n"
      ]
    },
    {
      "cell_type": "markdown",
      "metadata": {
        "id": "EmysC4CXpvUp"
      },
      "source": [
        "### Region "
      ]
    },
    {
      "cell_type": "code",
      "execution_count": null,
      "metadata": {
        "id": "T4rOjt9MpvUq"
      },
      "outputs": [],
      "source": [
        "# Region 의 빈도수를 구합니다.\n",
        "# value_counts()통해 지역별 상장회사의 빈도수를 봅니다.\n"
      ]
    },
    {
      "cell_type": "code",
      "execution_count": null,
      "metadata": {
        "id": "qXFXid2HpvUq"
      },
      "outputs": [],
      "source": [
        "# df[\"Region\"]\n"
      ]
    },
    {
      "cell_type": "code",
      "execution_count": null,
      "metadata": {
        "id": "pZHoaNYypvUq"
      },
      "outputs": [],
      "source": [
        "# Region 의 빈도수를 seaborn 의 countplot 으로 그립니다.\n"
      ]
    },
    {
      "cell_type": "code",
      "execution_count": null,
      "metadata": {
        "id": "OnvA8uB5pvUq"
      },
      "outputs": [],
      "source": [
        "# order 기능을 통해 빈도수를 정렬합니다.\n",
        "# df[\"Region\"].value_counts().index 로 Region 의 순서를 가져와서 지정합니다.\n"
      ]
    },
    {
      "cell_type": "code",
      "execution_count": null,
      "metadata": {
        "id": "dgBAh8-MpvUq"
      },
      "outputs": [],
      "source": [
        "# Region 을 기준으로 정렬합니다.\n"
      ]
    },
    {
      "cell_type": "markdown",
      "metadata": {
        "id": "SUDJZICYpvUq"
      },
      "source": [
        "## 두 개의 변수 빈도수 구하고 시각화 하기\n",
        "* crosstab 으로 빈도수 구하기\n",
        "* seaborn의 countplot 으로 빈도수 시각화\n",
        "* pandas의 plot 기능으로 시각화\n",
        "    * lineplot : 연속된 데이터(숫자, 기간)\n",
        "    * barplot : 비연속 데이터(범주형)\n",
        "    * hist : 연속된 수치 데이터의 범주화"
      ]
    },
    {
      "cell_type": "markdown",
      "metadata": {
        "id": "4BEQUhWLpvUq"
      },
      "source": [
        "### 지역별 상장 시장 종목 빈도수 구하기\n",
        "* pd.crosstab 을 통한 2개의 변수에 대한 빈도수 구하기"
      ]
    },
    {
      "cell_type": "code",
      "execution_count": null,
      "metadata": {
        "id": "QPyi01mPpvUr"
      },
      "outputs": [],
      "source": [
        "# pd.crosstab 을 통한 2개의 변수에 대한 빈도수 구하기\n",
        "# Market 과 Region 으로 빈도수 구하기\n"
      ]
    },
    {
      "cell_type": "code",
      "execution_count": null,
      "metadata": {
        "id": "4QISDf6NpvUr"
      },
      "outputs": [],
      "source": [
        "# countplot : Market 과 Region 으로 빈도수 시각화 하기\n"
      ]
    },
    {
      "cell_type": "markdown",
      "metadata": {
        "id": "9OKSZ5BapvUr"
      },
      "source": [
        "### 연도별 상장 종목 빈도수 분석"
      ]
    },
    {
      "cell_type": "code",
      "execution_count": null,
      "metadata": {
        "id": "fZ_ZtZ_5pvUr"
      },
      "outputs": [],
      "source": [
        "# Market, ListingYear 빈도수 구하기\n",
        "# market_year\n"
      ]
    },
    {
      "cell_type": "markdown",
      "metadata": {
        "id": "PGTDJvbHpvUs"
      },
      "source": [
        "### seaborn을 통한 빈도수 시각화"
      ]
    },
    {
      "cell_type": "code",
      "execution_count": null,
      "metadata": {
        "id": "2tdRbIuipvUs"
      },
      "outputs": [],
      "source": [
        "# Seaborn countplot 활용하여 빈도수를 표현합니다.\n",
        "# hue 를 사용해 다른 변수를 함께 표현합니다. hue는 색상을 의미합니다.\n"
      ]
    },
    {
      "cell_type": "markdown",
      "metadata": {
        "id": "msmaLmo1pvUs"
      },
      "source": [
        "### Pandas를 통한 시각화"
      ]
    },
    {
      "cell_type": "code",
      "execution_count": null,
      "metadata": {
        "id": "fNRBohT2pvUs"
      },
      "outputs": [],
      "source": [
        "# Pandas plot 기능 활용하여 기본 그래프(line)를 그립니다.\n",
        "# Pandas plot으로 그릴 때 x축에 인덱스 값이 y축에는 컬럼에 있는 값이 들어갑니다.\n",
        "# 컬럼이 여러개라면 다른 색상으로 그려집니다.\n"
      ]
    },
    {
      "cell_type": "code",
      "execution_count": null,
      "metadata": {
        "id": "TzDuQV6kpvUs"
      },
      "outputs": [],
      "source": [
        "# 컬럼값을 subplots 으로 그립니다.\n"
      ]
    },
    {
      "cell_type": "code",
      "execution_count": null,
      "metadata": {
        "id": "S-XHMkiApvUt"
      },
      "outputs": [],
      "source": [
        "# Pandas plot 기능 활용하여 막대 그래프(bar, barh)를 그립니다.\n"
      ]
    },
    {
      "cell_type": "code",
      "execution_count": null,
      "metadata": {
        "id": "rXsFgEgApvUt"
      },
      "outputs": [],
      "source": [
        "# 컬럼명의 데이터 타입을 int 형태로 변경합니다.\n",
        "# market_year.columns\n"
      ]
    },
    {
      "cell_type": "code",
      "execution_count": null,
      "metadata": {
        "id": "1CG2bT-7pvUt"
      },
      "outputs": [],
      "source": [
        "# 막대(bar)그래프 그리기\n",
        "# market_year\n"
      ]
    },
    {
      "cell_type": "markdown",
      "metadata": {
        "id": "g0K0VYmFpvUu"
      },
      "source": [
        "### groupby 와 pivot_table로 빈도수 구하기\n",
        "<img src=\"https://pandas.pydata.org/pandas-docs/stable/_images/06_valuecounts.svg\">\n",
        "\n",
        "* [How to calculate summary statistics? — pandas documentation](https://pandas.pydata.org/pandas-docs/stable/getting_started/intro_tutorials/06_calculate_statistics.html)\n",
        "* [Group by: split-apply-combine — pandas documentation](https://pandas.pydata.org/pandas-docs/stable/user_guide/groupby.html)\n",
        "* [pandas.pivot_table — pandas documentation](https://pandas.pydata.org/pandas-docs/stable/reference/api/pandas.pivot_table.html)"
      ]
    },
    {
      "cell_type": "code",
      "execution_count": null,
      "metadata": {
        "id": "oTfgIp8UpvUu"
      },
      "outputs": [],
      "source": [
        "# groupby([인덱스 컬럼 리스트])[연산에 사용할 컬럼].연산()\n",
        "# market_year"
      ]
    },
    {
      "cell_type": "code",
      "execution_count": null,
      "metadata": {
        "id": "lzxPAuelpvUu"
      },
      "outputs": [],
      "source": [
        ""
      ]
    },
    {
      "cell_type": "code",
      "execution_count": null,
      "metadata": {
        "id": "nRh2A38hpvUv"
      },
      "outputs": [],
      "source": [
        "# pivot_table로 같은 결과가 나오게 연산하기\n"
      ]
    },
    {
      "cell_type": "code",
      "execution_count": null,
      "metadata": {
        "id": "VJPpRSVupvUv"
      },
      "outputs": [],
      "source": [
        "# 위의 groupby 결과를 scatterplot으로 그립니다.\n",
        "# df_market_year\n"
      ]
    },
    {
      "cell_type": "code",
      "execution_count": null,
      "metadata": {
        "id": "6ZEiv_OtpvUv"
      },
      "outputs": [],
      "source": [
        "# lineplot 그리기\n"
      ]
    },
    {
      "cell_type": "code",
      "execution_count": null,
      "metadata": {
        "id": "17SFzFIfpvUv"
      },
      "outputs": [],
      "source": [
        "# relplot으로 subplot 그리기 - scatter\n"
      ]
    },
    {
      "cell_type": "code",
      "execution_count": null,
      "metadata": {
        "id": "FuOYELnNpvUv"
      },
      "outputs": [],
      "source": [
        "# relplot으로 subplot 그리기 - line\n"
      ]
    },
    {
      "cell_type": "markdown",
      "metadata": {
        "id": "IsMhUfVIpvUw"
      },
      "source": [
        "### 구간화 binnig 과 히스토그램\n",
        "* 연속된 수치 데이터를 범주형 데이터로 표현, bucketing 이라고 부르기도 함\n",
        "* 히스토그램 : 도수분포를 그래프 형태로 표현한 것\n",
        "* 막대그래프와 비슷해 보이지만 다른 그래프\n",
        "* 참고 : [히스토그램 - 위키백과, 우리 모두의 백과사전](https://ko.wikipedia.org/wiki/%ED%9E%88%EC%8A%A4%ED%86%A0%EA%B7%B8%EB%9E%A8)"
      ]
    },
    {
      "cell_type": "code",
      "execution_count": null,
      "metadata": {
        "id": "fGP-jpSNpvUw"
      },
      "outputs": [],
      "source": [
        ""
      ]
    },
    {
      "cell_type": "code",
      "execution_count": null,
      "metadata": {
        "id": "OTfAr9b4pvUw"
      },
      "outputs": [],
      "source": [
        "# bins 의 갯수에 따라 그래프의 표현 방법이 달라집니다.\n"
      ]
    },
    {
      "cell_type": "code",
      "execution_count": null,
      "metadata": {
        "id": "ZtnP8B7ApvUw"
      },
      "outputs": [],
      "source": [
        ""
      ]
    },
    {
      "cell_type": "markdown",
      "metadata": {
        "id": "daCMdE2bpvUw"
      },
      "source": [
        "## 데이터 색인"
      ]
    },
    {
      "cell_type": "code",
      "execution_count": null,
      "metadata": {
        "id": "uqksNTe1pvUw"
      },
      "outputs": [],
      "source": [
        "# 케이맨 제도에 있는 회사 찾기\n"
      ]
    },
    {
      "cell_type": "code",
      "execution_count": null,
      "metadata": {
        "id": "ig25T6mQpvUx",
        "scrolled": false
      },
      "outputs": [],
      "source": [
        "# 1970년 이전에 상장한 기업을 찾습니다.\n"
      ]
    },
    {
      "cell_type": "code",
      "execution_count": null,
      "metadata": {
        "id": "X3rYILa3pvUx"
      },
      "outputs": [],
      "source": [
        "# and => &\n",
        "# or  => |\n",
        "True and True"
      ]
    },
    {
      "cell_type": "code",
      "execution_count": null,
      "metadata": {
        "id": "oP52YB6mpvUx"
      },
      "outputs": [],
      "source": [
        "# 2020년 상장한 서울특별시에 소재한 코스피 종목을 찾습니다.\n"
      ]
    },
    {
      "cell_type": "code",
      "execution_count": null,
      "metadata": {
        "id": "JjuKuVD1pvUx"
      },
      "outputs": [],
      "source": [
        ""
      ]
    },
    {
      "cell_type": "markdown",
      "metadata": {
        "id": "WcFarSf7pvUx"
      },
      "source": [
        "### 지역별 섹터"
      ]
    },
    {
      "cell_type": "code",
      "execution_count": null,
      "metadata": {
        "id": "a2f0ZzmHpvUx"
      },
      "outputs": [],
      "source": [
        "# Sector, Region 으로 crosstab 연산을 합니다.\n",
        "# df_sr\n"
      ]
    },
    {
      "cell_type": "markdown",
      "metadata": {
        "id": "-ujICKorpvUy"
      },
      "source": [
        "### 컬럼과 인덱스 값으로 색인하기"
      ]
    },
    {
      "cell_type": "code",
      "execution_count": null,
      "metadata": {
        "id": "3xxAxnAgpvUy"
      },
      "outputs": [],
      "source": [
        "# 특정 컬럼만 가져오기\n"
      ]
    },
    {
      "cell_type": "markdown",
      "metadata": {
        "id": "Vodc7ijTpvUy"
      },
      "source": [
        "### 특정 행만 가져오기\n",
        "\n",
        "* .loc[행]\n",
        "* .loc[행, 열]\n",
        "* .loc[조건식, 열]"
      ]
    },
    {
      "cell_type": "code",
      "execution_count": null,
      "metadata": {
        "id": "TJRedVAUpvUy"
      },
      "outputs": [],
      "source": [
        "# df_sr에서 \"소프트웨어 개발 및 공급업\" 행만 가져오기\n"
      ]
    },
    {
      "cell_type": "code",
      "execution_count": null,
      "metadata": {
        "id": "-AUyc3YNpvUz"
      },
      "outputs": [],
      "source": [
        "# loc 로 행인덱스 가져오기\n",
        "# 행에서 \"소프트웨어 개발 및 공급업\", \"금융 지원 서비스업\", \"의약품 제조업\" 가져오기\n"
      ]
    },
    {
      "cell_type": "code",
      "execution_count": null,
      "metadata": {
        "id": "GALLzaJZpvUz"
      },
      "outputs": [],
      "source": [
        "# loc 로 행, 컬럼 가져오기\n",
        "# 행에서 \"소프트웨어 개발 및 공급업\", \"금융 지원 서비스업\", \"의약품 제조업\"\n",
        "# 열에서 \"서울특별시\" 가져오기\n",
        "\n"
      ]
    },
    {
      "cell_type": "code",
      "execution_count": null,
      "metadata": {
        "id": "7xRzq1ITpvUz"
      },
      "outputs": [],
      "source": [
        "# loc로 여러 행과 열 가져오기\n"
      ]
    },
    {
      "cell_type": "code",
      "execution_count": null,
      "metadata": {
        "id": "GIOyK3qBpvUz"
      },
      "outputs": [],
      "source": [
        "# \"소프트웨어 개발 및 공급업\" 만 가져와서 막대그래프를 그립니다.\n"
      ]
    },
    {
      "cell_type": "code",
      "execution_count": null,
      "metadata": {
        "id": "AM9jftSQpvUz"
      },
      "outputs": [],
      "source": [
        "# \"의약품 제조업\" 만 가져와서 막대그래프를 그립니다.\n",
        "\n"
      ]
    },
    {
      "cell_type": "code",
      "execution_count": null,
      "metadata": {
        "id": "FnGzYwb7pvUz"
      },
      "outputs": [],
      "source": [
        "# iloc[행]\n",
        "# iloc[행,열]\n"
      ]
    },
    {
      "cell_type": "code",
      "execution_count": null,
      "metadata": {
        "id": "E5fmn36xpvU0"
      },
      "outputs": [],
      "source": [
        ""
      ]
    },
    {
      "cell_type": "code",
      "execution_count": null,
      "metadata": {
        "id": "0DuLOWB2pvU0"
      },
      "outputs": [],
      "source": [
        ""
      ]
    },
    {
      "cell_type": "code",
      "execution_count": null,
      "metadata": {
        "id": "YChozu3qpvU1"
      },
      "outputs": [],
      "source": [
        "# df.head 혹은 tail도 내부에서 iloc를 슬라이싱으로 사용하고 있습니다.\n",
        "# df.head??"
      ]
    },
    {
      "cell_type": "code",
      "execution_count": null,
      "metadata": {
        "id": "sDpFaqQ_pvU1"
      },
      "outputs": [],
      "source": [
        ""
      ]
    },
    {
      "cell_type": "code",
      "execution_count": null,
      "metadata": {
        "id": "BIWgalHBpvU1"
      },
      "outputs": [],
      "source": [
        "# df_sr.tail??"
      ]
    },
    {
      "cell_type": "code",
      "execution_count": null,
      "metadata": {
        "id": "X5hcEhvepvU1"
      },
      "outputs": [],
      "source": [
        ""
      ]
    },
    {
      "cell_type": "code",
      "execution_count": null,
      "metadata": {
        "id": "vm8BXVMnpvU1"
      },
      "outputs": [],
      "source": [
        ""
      ]
    },
    {
      "cell_type": "code",
      "execution_count": null,
      "metadata": {
        "id": "xRnRmUwkpvU1"
      },
      "outputs": [],
      "source": [
        ""
      ]
    },
    {
      "cell_type": "code",
      "execution_count": null,
      "metadata": {
        "id": "irv_DwGlpvU2"
      },
      "outputs": [],
      "source": [
        ""
      ]
    }
  ],
  "metadata": {
    "colab": {
      "collapsed_sections": [],
      "name": "1.1 KRX 전체 종목분석-input.ipynb",
      "provenance": [],
      "include_colab_link": true
    },
    "kernelspec": {
      "display_name": "Python 3 (ipykernel)",
      "language": "python",
      "name": "python3"
    },
    "language_info": {
      "codemirror_mode": {
        "name": "ipython",
        "version": 3
      },
      "file_extension": ".py",
      "mimetype": "text/x-python",
      "name": "python",
      "nbconvert_exporter": "python",
      "pygments_lexer": "ipython3",
      "version": "3.9.12"
    },
    "toc": {
      "base_numbering": 1,
      "nav_menu": {},
      "number_sections": true,
      "sideBar": true,
      "skip_h1_title": false,
      "title_cell": "Table of Contents",
      "title_sidebar": "Contents",
      "toc_cell": false,
      "toc_position": {
        "height": "calc(100% - 180px)",
        "left": "10px",
        "top": "150px",
        "width": "178.988px"
      },
      "toc_section_display": true,
      "toc_window_display": true
    },
    "varInspector": {
      "cols": {
        "lenName": 16,
        "lenType": 16,
        "lenVar": 40
      },
      "kernels_config": {
        "python": {
          "delete_cmd_postfix": "",
          "delete_cmd_prefix": "del ",
          "library": "var_list.py",
          "varRefreshCmd": "print(var_dic_list())"
        },
        "r": {
          "delete_cmd_postfix": ") ",
          "delete_cmd_prefix": "rm(",
          "library": "var_list.r",
          "varRefreshCmd": "cat(var_dic_list()) "
        }
      },
      "types_to_exclude": [
        "module",
        "function",
        "builtin_function_or_method",
        "instance",
        "_Feature"
      ],
      "window_display": false
    }
  },
  "nbformat": 4,
  "nbformat_minor": 0
}